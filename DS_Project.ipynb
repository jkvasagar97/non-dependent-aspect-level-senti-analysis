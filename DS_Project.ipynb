{
 "cells": [
  {
   "cell_type": "code",
   "execution_count": 1,
   "metadata": {},
   "outputs": [],
   "source": [
    "import pandas as pd\n",
    "\n",
    "data = pd.read_csv(\"/Users/jeevakumar/Desktop/DS_Lab/data/project_data/UK_Farmer_Tweets.csv\")"
   ]
  },
  {
   "cell_type": "code",
   "execution_count": 2,
   "metadata": {},
   "outputs": [
    {
     "data": {
      "text/plain": [
       "Index(['UniversalMessageId', 'SocialNetwork', 'SenderUserId',\n",
       "       'SenderScreenName', 'SenderListedName', 'SenderProfileImgUrl',\n",
       "       'SenderProfileLink', 'Sender Followers Count', 'SenderInfluencerScore',\n",
       "       'SenderAge', 'SenderGender', 'OriginalAuthor',\n",
       "       'OriginalAuthorProfileLink', 'Title', 'Message', 'MessageType',\n",
       "       'CreatedTime', 'Language', 'LanguageCode', 'CountryCode',\n",
       "       'MediaTypeList', 'Permalink', 'Domain', 'Retweets', 'Tweet Generator',\n",
       "       'Favorites', 'ReceiverId', 'ReceiverScreenName', 'AssignedBy',\n",
       "       'AssignedTo', 'Spam', 'Status', 'Intel Location', 'Priority',\n",
       "       'Star Rating', 'Sentiment', 'Review Source',\n",
       "       'Experience Score - Message level', 'ClientQueues', 'PartnerQueues',\n",
       "       'ClientCustomProps', 'PartnerCustomProps', 'Custom Tags', 'Action Time',\n",
       "       'Geo Target', 'Post Id', 'Associated Cases', 'Location', 'Country',\n",
       "       'State', 'City', 'Latitude', 'Longitude', 'Sender Email',\n",
       "       'Message Type', 'CampaignName'],\n",
       "      dtype='object')"
      ]
     },
     "execution_count": 2,
     "metadata": {},
     "output_type": "execute_result"
    }
   ],
   "source": [
    "data.keys()"
   ]
  },
  {
   "cell_type": "code",
   "execution_count": 3,
   "metadata": {},
   "outputs": [],
   "source": [
    "senti_data = data[['Message', 'Sentiment']]"
   ]
  },
  {
   "cell_type": "code",
   "execution_count": 4,
   "metadata": {},
   "outputs": [
    {
     "data": {
      "text/html": [
       "<div>\n",
       "<style scoped>\n",
       "    .dataframe tbody tr th:only-of-type {\n",
       "        vertical-align: middle;\n",
       "    }\n",
       "\n",
       "    .dataframe tbody tr th {\n",
       "        vertical-align: top;\n",
       "    }\n",
       "\n",
       "    .dataframe thead th {\n",
       "        text-align: right;\n",
       "    }\n",
       "</style>\n",
       "<table border=\"1\" class=\"dataframe\">\n",
       "  <thead>\n",
       "    <tr style=\"text-align: right;\">\n",
       "      <th></th>\n",
       "      <th>Message</th>\n",
       "      <th>Sentiment</th>\n",
       "    </tr>\n",
       "  </thead>\n",
       "  <tbody>\n",
       "    <tr>\n",
       "      <th>count</th>\n",
       "      <td>10000</td>\n",
       "      <td>10000</td>\n",
       "    </tr>\n",
       "    <tr>\n",
       "      <th>unique</th>\n",
       "      <td>7062</td>\n",
       "      <td>3</td>\n",
       "    </tr>\n",
       "    <tr>\n",
       "      <th>top</th>\n",
       "      <td>RT @rihanna why aren’t we talking about this?!...</td>\n",
       "      <td>NEUTRAL</td>\n",
       "    </tr>\n",
       "    <tr>\n",
       "      <th>freq</th>\n",
       "      <td>83</td>\n",
       "      <td>5759</td>\n",
       "    </tr>\n",
       "  </tbody>\n",
       "</table>\n",
       "</div>"
      ],
      "text/plain": [
       "                                                  Message Sentiment\n",
       "count                                               10000     10000\n",
       "unique                                               7062         3\n",
       "top     RT @rihanna why aren’t we talking about this?!...   NEUTRAL\n",
       "freq                                                   83      5759"
      ]
     },
     "execution_count": 4,
     "metadata": {},
     "output_type": "execute_result"
    }
   ],
   "source": [
    "senti_data.describe()"
   ]
  },
  {
   "cell_type": "code",
   "execution_count": 5,
   "metadata": {},
   "outputs": [
    {
     "data": {
      "text/html": [
       "<div>\n",
       "<style scoped>\n",
       "    .dataframe tbody tr th:only-of-type {\n",
       "        vertical-align: middle;\n",
       "    }\n",
       "\n",
       "    .dataframe tbody tr th {\n",
       "        vertical-align: top;\n",
       "    }\n",
       "\n",
       "    .dataframe thead th {\n",
       "        text-align: right;\n",
       "    }\n",
       "</style>\n",
       "<table border=\"1\" class=\"dataframe\">\n",
       "  <thead>\n",
       "    <tr style=\"text-align: right;\">\n",
       "      <th></th>\n",
       "      <th>Message</th>\n",
       "      <th>Sentiment</th>\n",
       "    </tr>\n",
       "  </thead>\n",
       "  <tbody>\n",
       "    <tr>\n",
       "      <th>count</th>\n",
       "      <td>10000</td>\n",
       "      <td>10000</td>\n",
       "    </tr>\n",
       "    <tr>\n",
       "      <th>unique</th>\n",
       "      <td>7062</td>\n",
       "      <td>3</td>\n",
       "    </tr>\n",
       "    <tr>\n",
       "      <th>top</th>\n",
       "      <td>RT @rihanna why aren’t we talking about this?!...</td>\n",
       "      <td>NEUTRAL</td>\n",
       "    </tr>\n",
       "    <tr>\n",
       "      <th>freq</th>\n",
       "      <td>83</td>\n",
       "      <td>5759</td>\n",
       "    </tr>\n",
       "  </tbody>\n",
       "</table>\n",
       "</div>"
      ],
      "text/plain": [
       "                                                  Message Sentiment\n",
       "count                                               10000     10000\n",
       "unique                                               7062         3\n",
       "top     RT @rihanna why aren’t we talking about this?!...   NEUTRAL\n",
       "freq                                                   83      5759"
      ]
     },
     "execution_count": 5,
     "metadata": {},
     "output_type": "execute_result"
    }
   ],
   "source": [
    "senti_data.describe()"
   ]
  },
  {
   "cell_type": "code",
   "execution_count": 6,
   "metadata": {},
   "outputs": [
    {
     "name": "stdout",
     "output_type": "stream",
     "text": [
      "<class 'pandas.core.frame.DataFrame'>\n",
      "RangeIndex: 10000 entries, 0 to 9999\n",
      "Data columns (total 2 columns):\n",
      " #   Column     Non-Null Count  Dtype \n",
      "---  ------     --------------  ----- \n",
      " 0   Message    10000 non-null  object\n",
      " 1   Sentiment  10000 non-null  object\n",
      "dtypes: object(2)\n",
      "memory usage: 156.4+ KB\n"
     ]
    }
   ],
   "source": [
    "senti_data.info()"
   ]
  },
  {
   "cell_type": "code",
   "execution_count": 7,
   "metadata": {},
   "outputs": [
    {
     "data": {
      "text/html": [
       "<div>\n",
       "<style scoped>\n",
       "    .dataframe tbody tr th:only-of-type {\n",
       "        vertical-align: middle;\n",
       "    }\n",
       "\n",
       "    .dataframe tbody tr th {\n",
       "        vertical-align: top;\n",
       "    }\n",
       "\n",
       "    .dataframe thead th {\n",
       "        text-align: right;\n",
       "    }\n",
       "</style>\n",
       "<table border=\"1\" class=\"dataframe\">\n",
       "  <thead>\n",
       "    <tr style=\"text-align: right;\">\n",
       "      <th></th>\n",
       "      <th>Message</th>\n",
       "      <th>Sentiment</th>\n",
       "    </tr>\n",
       "  </thead>\n",
       "  <tbody>\n",
       "    <tr>\n",
       "      <th>5</th>\n",
       "      <td>RT @UK51NGH Sham of a democracy as the Indian ...</td>\n",
       "      <td>NEGATIVE</td>\n",
       "    </tr>\n",
       "    <tr>\n",
       "      <th>9</th>\n",
       "      <td>RT @UK51NGH Sham of a democracy as the Indian ...</td>\n",
       "      <td>NEGATIVE</td>\n",
       "    </tr>\n",
       "    <tr>\n",
       "      <th>10</th>\n",
       "      <td>RT @UK51NGH Sham of a democracy as the Indian ...</td>\n",
       "      <td>NEGATIVE</td>\n",
       "    </tr>\n",
       "    <tr>\n",
       "      <th>14</th>\n",
       "      <td>RT @timetospeakoutt @LizWebsterLD As @helenhal...</td>\n",
       "      <td>NEGATIVE</td>\n",
       "    </tr>\n",
       "    <tr>\n",
       "      <th>16</th>\n",
       "      <td>RT @penninevale #Fishermen, #Farmers, #economy...</td>\n",
       "      <td>NEGATIVE</td>\n",
       "    </tr>\n",
       "    <tr>\n",
       "      <th>...</th>\n",
       "      <td>...</td>\n",
       "      <td>...</td>\n",
       "    </tr>\n",
       "    <tr>\n",
       "      <th>9993</th>\n",
       "      <td>RT @Jamie_Margolin I stand with the farmers in...</td>\n",
       "      <td>NEGATIVE</td>\n",
       "    </tr>\n",
       "    <tr>\n",
       "      <th>9994</th>\n",
       "      <td>RT @ClaudiaWebbe Solidarity to the Indian Farm...</td>\n",
       "      <td>NEUTRAL</td>\n",
       "    </tr>\n",
       "    <tr>\n",
       "      <th>9995</th>\n",
       "      <td>RT @GretaThunberg We stand in solidarity with ...</td>\n",
       "      <td>NEUTRAL</td>\n",
       "    </tr>\n",
       "    <tr>\n",
       "      <th>9997</th>\n",
       "      <td>RT @GretaThunberg We stand in solidarity with ...</td>\n",
       "      <td>NEUTRAL</td>\n",
       "    </tr>\n",
       "    <tr>\n",
       "      <th>9999</th>\n",
       "      <td>RT @Khalsa_Aid Thank you @GretaThunberg 🙏🏻\\n\\n...</td>\n",
       "      <td>POSITIVE</td>\n",
       "    </tr>\n",
       "  </tbody>\n",
       "</table>\n",
       "<p>4336 rows × 2 columns</p>\n",
       "</div>"
      ],
      "text/plain": [
       "                                                Message Sentiment\n",
       "5     RT @UK51NGH Sham of a democracy as the Indian ...  NEGATIVE\n",
       "9     RT @UK51NGH Sham of a democracy as the Indian ...  NEGATIVE\n",
       "10    RT @UK51NGH Sham of a democracy as the Indian ...  NEGATIVE\n",
       "14    RT @timetospeakoutt @LizWebsterLD As @helenhal...  NEGATIVE\n",
       "16    RT @penninevale #Fishermen, #Farmers, #economy...  NEGATIVE\n",
       "...                                                 ...       ...\n",
       "9993  RT @Jamie_Margolin I stand with the farmers in...  NEGATIVE\n",
       "9994  RT @ClaudiaWebbe Solidarity to the Indian Farm...   NEUTRAL\n",
       "9995  RT @GretaThunberg We stand in solidarity with ...   NEUTRAL\n",
       "9997  RT @GretaThunberg We stand in solidarity with ...   NEUTRAL\n",
       "9999  RT @Khalsa_Aid Thank you @GretaThunberg 🙏🏻\\n\\n...  POSITIVE\n",
       "\n",
       "[4336 rows x 2 columns]"
      ]
     },
     "execution_count": 7,
     "metadata": {},
     "output_type": "execute_result"
    }
   ],
   "source": [
    "senti_data[senti_data.duplicated([\"Message\"],keep=False)]"
   ]
  },
  {
   "cell_type": "code",
   "execution_count": 8,
   "metadata": {},
   "outputs": [],
   "source": [
    "#senti_data['Sentiment'] = senti_data['Sentiment'].astype('category')"
   ]
  },
  {
   "cell_type": "code",
   "execution_count": 9,
   "metadata": {},
   "outputs": [
    {
     "name": "stderr",
     "output_type": "stream",
     "text": [
      "/var/folders/n5/ns746s3s12v7rsnsjqlplnbm0000gn/T/ipykernel_5342/4164890324.py:18: SettingWithCopyWarning: \n",
      "A value is trying to be set on a copy of a slice from a DataFrame.\n",
      "Try using .loc[row_indexer,col_indexer] = value instead\n",
      "\n",
      "See the caveats in the documentation: https://pandas.pydata.org/pandas-docs/stable/user_guide/indexing.html#returning-a-view-versus-a-copy\n",
      "  senti_data['tokenized_text'] = senti_data['Message'].apply(preprocess_text)\n"
     ]
    }
   ],
   "source": [
    "import nltk\n",
    "import string\n",
    "from nltk.tokenize import word_tokenize\n",
    "from nltk.corpus import stopwords\n",
    "from nltk.stem import WordNetLemmatizer\n",
    "\n",
    "def preprocess_text(text):\n",
    "    text = text.lower()\n",
    "    text = text.translate(str.maketrans(\"\", \"\", string.punctuation))\n",
    "    text = ''.join((z for z in text if not z.isdigit()))\n",
    "    # Tokenize text\n",
    "    tokens = nltk.word_tokenize(text)\n",
    "    # Remove stop words\n",
    "    stop_words = set(stopwords.words(\"english\"))\n",
    "    filtered_tokens = [token for token in tokens if token.lower() not in stop_words]\n",
    "    # Lemmatize tokens\n",
    "    lemmatizer = WordNetLemmatizer()\n",
    "    lemmatized_tokens = [lemmatizer.lemmatize(token) for token in filtered_tokens]\n",
    "    return lemmatized_tokens\n",
    "\n",
    "senti_data['tokenized_text'] = senti_data['Message'].apply(preprocess_text)"
   ]
  },
  {
   "cell_type": "code",
   "execution_count": 10,
   "metadata": {},
   "outputs": [
    {
     "data": {
      "text/plain": [
       "0       [panjabi, journalist, punyaab, great, reportin...\n",
       "1       [rt, sukhwin, releasejagmeetsinghsham, democra...\n",
       "2       [rt, ayalimanpreet, warmly, welcome, farmers, ...\n",
       "3       [rt, harjapbhangal, sedition, meanwhile, peopl...\n",
       "4       [rt, milffarmer, mmm, cum, show, offer, uncens...\n",
       "                              ...                        \n",
       "9995    [rt, gretathunberg, stand, solidarity, farmers...\n",
       "9996                                   [thank, greta, 🙌🏽]\n",
       "9997    [rt, gretathunberg, stand, solidarity, farmers...\n",
       "9998    [following, awareness, raised, rihanna, anothe...\n",
       "9999    [rt, khalsaaid, thank, gretathunberg, 🙏🏻, ’, g...\n",
       "Name: tokenized_text, Length: 10000, dtype: object"
      ]
     },
     "execution_count": 10,
     "metadata": {},
     "output_type": "execute_result"
    }
   ],
   "source": [
    "# from nltk.tokenize import TweetTokenizer\n",
    "# tt = TweetTokenizer()\n",
    "# senti_data.Message = senti_data.Message.apply(tt.tokenize)\n",
    "senti_data['tokenized_text'] "
   ]
  },
  {
   "cell_type": "code",
   "execution_count": 11,
   "metadata": {},
   "outputs": [
    {
     "data": {
      "text/html": [
       "<div>\n",
       "<style scoped>\n",
       "    .dataframe tbody tr th:only-of-type {\n",
       "        vertical-align: middle;\n",
       "    }\n",
       "\n",
       "    .dataframe tbody tr th {\n",
       "        vertical-align: top;\n",
       "    }\n",
       "\n",
       "    .dataframe thead th {\n",
       "        text-align: right;\n",
       "    }\n",
       "</style>\n",
       "<table border=\"1\" class=\"dataframe\">\n",
       "  <thead>\n",
       "    <tr style=\"text-align: right;\">\n",
       "      <th></th>\n",
       "      <th>Message</th>\n",
       "      <th>Sentiment</th>\n",
       "      <th>tokenized_text</th>\n",
       "    </tr>\n",
       "  </thead>\n",
       "  <tbody>\n",
       "    <tr>\n",
       "      <th>0</th>\n",
       "      <td>Panjabi Journalist of 2021 has to be @PunYaab ...</td>\n",
       "      <td>NEUTRAL</td>\n",
       "      <td>[panjabi, journalist, punyaab, great, reportin...</td>\n",
       "    </tr>\n",
       "    <tr>\n",
       "      <th>1</th>\n",
       "      <td>RT @Sukhwin19354152 #ReleaseJagmeetSinghSham o...</td>\n",
       "      <td>NEUTRAL</td>\n",
       "      <td>[rt, sukhwin, releasejagmeetsinghsham, democra...</td>\n",
       "    </tr>\n",
       "    <tr>\n",
       "      <th>2</th>\n",
       "      <td>RT @AyaliManpreet Warmly welcome the farmers a...</td>\n",
       "      <td>POSITIVE</td>\n",
       "      <td>[rt, ayalimanpreet, warmly, welcome, farmers, ...</td>\n",
       "    </tr>\n",
       "    <tr>\n",
       "      <th>3</th>\n",
       "      <td>RT @HarjapBhangal Sedition??! Meanwhile the pe...</td>\n",
       "      <td>NEGATIVE</td>\n",
       "      <td>[rt, harjapbhangal, sedition, meanwhile, peopl...</td>\n",
       "    </tr>\n",
       "    <tr>\n",
       "      <th>4</th>\n",
       "      <td>RT @milf_farmer_1 Mmm cum show me what you hav...</td>\n",
       "      <td>NEUTRAL</td>\n",
       "      <td>[rt, milffarmer, mmm, cum, show, offer, uncens...</td>\n",
       "    </tr>\n",
       "  </tbody>\n",
       "</table>\n",
       "</div>"
      ],
      "text/plain": [
       "                                             Message Sentiment  \\\n",
       "0  Panjabi Journalist of 2021 has to be @PunYaab ...   NEUTRAL   \n",
       "1  RT @Sukhwin19354152 #ReleaseJagmeetSinghSham o...   NEUTRAL   \n",
       "2  RT @AyaliManpreet Warmly welcome the farmers a...  POSITIVE   \n",
       "3  RT @HarjapBhangal Sedition??! Meanwhile the pe...  NEGATIVE   \n",
       "4  RT @milf_farmer_1 Mmm cum show me what you hav...   NEUTRAL   \n",
       "\n",
       "                                      tokenized_text  \n",
       "0  [panjabi, journalist, punyaab, great, reportin...  \n",
       "1  [rt, sukhwin, releasejagmeetsinghsham, democra...  \n",
       "2  [rt, ayalimanpreet, warmly, welcome, farmers, ...  \n",
       "3  [rt, harjapbhangal, sedition, meanwhile, peopl...  \n",
       "4  [rt, milffarmer, mmm, cum, show, offer, uncens...  "
      ]
     },
     "execution_count": 11,
     "metadata": {},
     "output_type": "execute_result"
    }
   ],
   "source": [
    "senti_data.head()"
   ]
  },
  {
   "cell_type": "code",
   "execution_count": 12,
   "metadata": {},
   "outputs": [
    {
     "name": "stderr",
     "output_type": "stream",
     "text": [
      "/var/folders/n5/ns746s3s12v7rsnsjqlplnbm0000gn/T/ipykernel_5342/163504853.py:8: SettingWithCopyWarning: \n",
      "A value is trying to be set on a copy of a slice from a DataFrame.\n",
      "Try using .loc[row_indexer,col_indexer] = value instead\n",
      "\n",
      "See the caveats in the documentation: https://pandas.pydata.org/pandas-docs/stable/user_guide/indexing.html#returning-a-view-versus-a-copy\n",
      "  senti_data['Sentiment'] = senti_data['Sentiment'].map({'POSITIVE': 2, 'NEUTRAL': 1, 'NEGATIVE': 0})\n",
      "/var/folders/n5/ns746s3s12v7rsnsjqlplnbm0000gn/T/ipykernel_5342/163504853.py:10: SettingWithCopyWarning: \n",
      "A value is trying to be set on a copy of a slice from a DataFrame\n",
      "\n",
      "See the caveats in the documentation: https://pandas.pydata.org/pandas-docs/stable/user_guide/indexing.html#returning-a-view-versus-a-copy\n",
      "  senti_data.dropna(inplace=True)\n"
     ]
    },
    {
     "name": "stdout",
     "output_type": "stream",
     "text": [
      "Accuracy: 0.801\n"
     ]
    }
   ],
   "source": [
    "#Baseline model\n",
    "from sklearn.model_selection import train_test_split\n",
    "from sklearn.feature_extraction.text import CountVectorizer\n",
    "from sklearn.naive_bayes import MultinomialNB\n",
    "from sklearn.metrics import accuracy_score\n",
    "\n",
    "# Preprocess the data\n",
    "senti_data['Sentiment'] = senti_data['Sentiment'].map({'POSITIVE': 2, 'NEUTRAL': 1, 'NEGATIVE': 0})\n",
    "\n",
    "senti_data.dropna(inplace=True)\n",
    "# Split the data into training and testing sets\n",
    "X_train, X_test, y_train, y_test = train_test_split(senti_data['Message'], senti_data['Sentiment'], test_size=0.2)\n",
    "\n",
    "# Extract features from the tweets using bag-of-words representation\n",
    "vectorizer = CountVectorizer()\n",
    "X_train = vectorizer.fit_transform(X_train)\n",
    "X_test = vectorizer.transform(X_test)\n",
    "\n",
    "# Train the model using Naive Bayes classifier\n",
    "clf = MultinomialNB()\n",
    "clf.fit(X_train, y_train)\n",
    "\n",
    "# Test the model on the testing set and evaluate its performance\n",
    "y_pred = clf.predict(X_test)\n",
    "print('Accuracy:', accuracy_score(y_test, y_pred))\n"
   ]
  },
  {
   "cell_type": "code",
   "execution_count": 47,
   "metadata": {},
   "outputs": [
    {
     "name": "stderr",
     "output_type": "stream",
     "text": [
      "/var/folders/n5/ns746s3s12v7rsnsjqlplnbm0000gn/T/ipykernel_5342/476584383.py:19: SettingWithCopyWarning: \n",
      "A value is trying to be set on a copy of a slice from a DataFrame.\n",
      "Try using .loc[row_indexer,col_indexer] = value instead\n",
      "\n",
      "See the caveats in the documentation: https://pandas.pydata.org/pandas-docs/stable/user_guide/indexing.html#returning-a-view-versus-a-copy\n",
      "  senti_data['aspects'] = senti_data['Message'].apply(find_aspects_tweet)\n"
     ]
    }
   ],
   "source": [
    "import spacy\n",
    "nlp = spacy.load('en_core_web_sm')\n",
    "\n",
    "def find_aspects_tweet(doc):\n",
    "    noun_adj_pairs = {}\n",
    "    doc = nlp(doc)\n",
    "    for chunk in doc.noun_chunks:\n",
    "        adj = set()\n",
    "        noun = \"\"\n",
    "        for tok in chunk:\n",
    "            if tok.pos_ == \"NOUN\":\n",
    "                noun = tok.text\n",
    "            if tok.pos_ == \"ADJ\":\n",
    "                adj.add(tok.text.lower())\n",
    "        if noun:\n",
    "            noun_adj_pairs.update({noun.lower():adj})\n",
    "    return noun_adj_pairs\n",
    "\n",
    "senti_data['aspects'] = senti_data['Message'].apply(find_aspects_tweet)\n"
   ]
  },
  {
   "cell_type": "code",
   "execution_count": 59,
   "metadata": {},
   "outputs": [
    {
     "name": "stdout",
     "output_type": "stream",
     "text": [
      "{'reporting': {'ongoing', 'mandatory', 'different', 'shameful', 'original', 'truthful', '@bbcnews'}, 'state': {'authoritarian', 'populous', 'right', 'mighty', 'northern', 'indian', 'evil', 'sad', 'important'}, 'win': {'big', 'collective', 'easy', 'massive', 'huge'}, 'rallies': {'nazi'}, 'conferences': {'more'}, 'thing': {'other', 'only', 'favourite', 'insulting', 'right', 'worst', 'good', 'craziest', 'big', 'many', 'wise', 'important'}, 'year': {'75th', 'difficult', 'last', 'more', 'long', 'innocent', 'past', 'old', 'disastrous'}, 'support': {'ongoing', 'worldwide', 'such', 'incredible', 'pakistani', 'vocal', 'tactical', 'focused', 'huge', 'whopping', 'logical', 'global', 'full', 'fantastic', 'international', 'same', 'extra', 'financial', 'popular', 'free', 'long', 'more', 'friendly', 'restorative', 'great', 'big', 'dear', 'continuous', 'infinite', 'external', 'unwavering'}, 'video': {'@freejagginow', '▶', 'below', 'amazing', 'great', 'promotional', 'full', 'older', 'fake'}, 'government': {'corrupt', 'central', 'modi', 'subsequent', 'exact', 'apathetic', 'federal', 'foreign', 'indian', 'democratic', 'current', 'black', 'authoritarian', 'coward', 'american', '-', 'anti', 'fascist'}, 'minorities': {'cultural', 'other', 'religious'}, 'radicals': set(), 'nation': {'secular', 'democratic', 'whole', 'happy', 'progressive', 'liberal'}, 'sense': {'enough', 'palpable'}, 'moment': {'single', 'real', 'iconic', 'whole', 'critical', 'huge'}, 'attack': {'terrorist', 'recent', 'further', 'unprecedented', 'unprovoked', 'lakhimpur', 'indian', 'unjust'}, 'deal': {'new', 'crass', 'free', 'dreadful', 'awful', 'sustainable', 'big', 'planned', 'australian', 'reciprocal', 'fair'}, 'वाले': {'पहुंचने'}, 'exercise': set(), 'teacher': set(), 'gift': {'original', 'lovely'}, 'storms': {'social'}, 'propaganda': {'nationalist', 'pseudo', 'indian', 'fatf', 'modi', 'right', 'usual', 'clear', 'religious', 'false', 'same', 'old'}, 'constituency': set(), 'food': {'local', 'plentiful', 'organic', 'better', 'healthy', 'safer', 'fresh', 'good', 'sustainable', '@sikhpa', 'daily', 'lovely', 'cheap', 'industrialised', 'own'}, 'air': {'clean', 'better', 'cleaner'}, 'part': {'integral', 'most', 'rajasthan', 'best', 'essential', 'particular', 'important'}, 'community': {'ub1ub2', 'local', 'british', 'muslim', 'entire', 'scientific', 'fisher', 'unified', 'global', 'indian', 'international', 'false', 'own'}, 'movers': {'new'}, 'meters': {'new'}, 'patches': {'unmown'}, 'grass': {'long'}, 'areas': {'unirrigated', 'marginal', 'cropped', 'unused', 'rural'}, 'way': {'such', 'easy', 'only', 'quick', 'effective', 'brilliant', 'possible', 'great', 'perfect', 'vile', 'unbiased', 'deceitful', 'same', 'efficient'}, 'divide': set(), 'spinach': set(), '@drfeifei': set(), 'farmers': {'new', 'local', 'enthusiastic', 'regenerative', 'inefficient', 'dedicated', 'worldslargestprotest', 'most', 'hard', 'elderly', 'many', 'angry', 'bihar', 'own', 'peaceful', 'organic', 'innocent', 'friendly', 'lakh+', 'actual', 'young', 'furious', 'marginal', 'arable', 'australian', 'poor', 'toxic', 'least', 'french', 'british', 'agroecological', '@manisha_choudry', 'equadorian', 'pakistani', 'brave', 'busy', 'white', 'indian', 'victorious', 'silent', 'fat', 'major', 'other', 'rich', 'long', 'entitled', 'multiple', 'more', 'happy', 'entrant', 'small', 'greedy', 'camera-', 'ancient', 'old'}, 'standards': {'public', 'double', 'environmental', 'lower'}, 'bit.ly/3ozsbnq': set(), 'blog': {'latest'}, 'benefits': {'multiple', 'financial', 'big'}, 'news': {'such', 'excellent', 'unconfirmed', 'terrible', 'shocking', 'good', 'true', 'related', 'real', 'international', 'sad', 'latest', 'major', 'other', 'brilliant', 'amazing', 'great', 'honest', 'unbiased', 'fake', 'old'}, 'slap': set(), 'gains': {'potential', 'economic'}, 'schoolchildren': set(), 'messages': {'strong', 'congratulatory', 'important'}, 'argument': {'internal', 'compelling'}, 'morning': {'good', 'fantastic', 'foggy', 'early'}, 'detainment': set(), 'heritage': {'cultural', 'sovereign', 'indian'}, 'technology': {'new', 'smart'}, 'damage': {'colossal', 'devastating', 'non', 'collateral', 'reparative', 'environmental', 'huge'}, 'communities': {'local', 'other', 'black', 'resilient', 'whole', 'rural'}, 'opportunities': {'many', 'new', 'economic', 'more'}, 'crop': {'single'}, 'tie': set(), 'failure': {'right', 'cong'}, 'team': {'top', 'legal', 'lantra', 'whole', 'backend'}, 'conspiracy': {'global', 'criminal'}, 'images': {'recent', 'fraudulent'}, 'operation': {'leaked'}, 'borders': {'geographic', 'national', 'own'}, 'matter': {'legal', 'internal', 'important'}, 'limits': set(), 'project': {'latest', 'new', 'same', '#', 'environmental', 'brilliant'}, 'inputs': set(), 'region': {'meridian'}, 'laws': {'new', 'derided', 'harmful', 'punitive', 'central', 'controversial', 'farmer', 'unjust', 'contentious', 'injust', 'black', 'draconian', 'farm', 'unfair', 'agricultural', '-', 'destructive', 'exploitative', 'devastating', 'anti', 'fascist'}, 'access': {'unhindered', 'open', 'public', 'legal', 'easier'}, 'land': {'much', 'thir', 'private', 'precious', 'agricultural', 'own'}, 'tech': {'big'}, 'causes': {'other', 'important'}, 'hardship': {'financial', 'economic'}, 'calculator': {'@farmco2toolkit'}, 'emphasis': {'huge'}, 'issues': {'ongoing', 'such', 'social', '@zeenewsenglish', 'human', 'key', 'several', '.@delhipolice', 'serious', 'humanitarian', 'global', 'main', 'real', 'many', 'same', 'legal', 'major', 'other', 'agricultural', 'big', 'national', 'internal', 'political', 'ego'}, 'demand': {'global', 'main'}, 'stress': set(), 'article': {'latest', 'informative', 'farmersprotest', '@earth3r', 'recent', 'brilliant', 'great', 'full', 'interesting', '@baaznewsorg'}, 'scenes': {'beautiful', 'such', 'similar', 'stunning'}, 'lives': {'more', '+', 'human'}, 'victory': {'major', 'epic', 'partial', 'recent', 'historic', 'huge', 'unprecedented', 'great', 'flawed', 'real'}, 'history': {'new', 'farmersprotest', 'anglo', 'modern', 'rich', 'colonial', 'long', 'post', '-', 'sikh', 'human'}, 'moments': {'many', 'iconic'}, 'battle': {'intense', 'global'}, '😷': set(), 'farming': {'regenerative', 'successful', 'organic', 'positive', 'actual'}, 'product': set(), 'move': {'sinister'}, 'place': {'first', 'right', 'hopeless'}, 'episode': {'latest', 'last', 'missing', 'tough', 'great', 'live', 'full', 'podcast'}, 'practices': {'unfair', 'regenerative', 'natural', 'organic', 'friendly', 'agricultural', 'innovative', 'misguided', 'best'}, 'generation': {'next', 'last'}, 'supplier': set(), 'friend': {'good', 'young'}, 'veg': {'own'}, '।': {'ਵਸਾਇਆ', 'होगा'}, 'performance': {'technical', 'pasture', 'environmental', 'financial'}, 'workshop': {'online', 'short'}, '@nsitharaman': set(), 'report': {'latest', 'interim', 'annual', 'recent', 'medical', 'comprehensive', 'weekly', 'important'}, 'में': {'शाहीनबाग'}, 'policies': {'harsh', 'environmental', 'right'}, 'letter': {'great', 'lengthy', 'open', 'full', 'below', 'whole', 'urgent'}, 'revolution': {'positive', 'armed', 'powerful'}, 'colours': {'key'}, 'parties': {'other', 'different', 'indian', 'left', 'political', 'same'}, 'struggle': {'real'}, 'protest': {'ongoing', 'such', 'collective', 'farmersprotest', 'biggest', 'entire', 'huge', '@uk51ngh', '-largest', 'indian', 'mass', 'welcome', 'ever', 'democratic', 'longest', 'fresh', 'unique', 'largest', 'peaceful', 'organized', 'national', 'fake'}, 'farmer': {'first', 'eatlocal', 'more', 'arable', 'australian', 'indian', 'former', 'average', '69yr', 'anti', 'old', 'devon'}, 'protests': {'ongoing', 'peaceful', 'major', 'largest', 'other', 'overnight', 'long', 'global', 'indian', 'ever', 'yearlong'}, 'curtains': set(), 'cost': {'great'}, 'citizen': {'canadian'}, 'shortage': set(), 'low': set(), 'govt': {'shameless', 'wannabe', 'neoliberal', 'foolish', 'current', 'british', 'modi', 'oppressive', '@shernisayss', 'late', 'cruel', 'indian', 'fascist', 'super', 'own'}, 'attacks': {'terrorist', 'many', 'arrack', 'unprecedented'}, 'environmentalist': {'indian'}, 'charges': {'bogus', 'baseless', 'lathi', 'exaggerated', 'criminal', 'false'}, 'protestors': {'peaceful', 'other', 'elderly', 'many'}, 'blackmail': set(), 'updates': {'daily', 'live', 'global', 'real', 'more', 'regular', 'baaznews.org/p/lakhimpur-kh'}, 'negotiations': set(), 'demands': {'lawful', 'justified', 'critical'}, 'plate': {'political'}, 'bit.ly/sustainconf2021': set(), 'work': {'agroecological', 'excellent', 'amazing', 'great', 'good', 'hard', 'humanitarian', 'fantastic', 'real', 'future'}, 'vice': set(), 'service': {'new', 'broader', 'complete', 'conveyancing', 'nationwide', 'selfless'}, 'से': {'सिखों'}, 'problems': {'ongoing', 'internal', 'fewer', 'many', 'more'}, 'generations': {'future', 'next'}, '@missamyvarle': {'@marshacollier'}, 'lecture': set(), 'power': {'great', 'real', 'fearsome', 'more', 'ppl'}, 'energy': {'positive'}, 'trees': {'special', 'right'}, 'environment': {'hygienic'}, 'servant': set(), 'audio': set(), 'respect': {'due', 'huge', '-', '@uk51ngh', 'big', 'much', 'mutual', 'mad', 'non'}, 'https://t.co/ewvuwjujgc': set(), 'soils': set(), '🍲': set(), '🫂': set(), '🌎': set(), 'love': {'big', 'collective', 'much', 'endless', 'def', 'more', 'amazing'}, 'services': {'such', 'financial', 'farmers', 'free', 'medical'}, 'supply': {'constant'}, 'role': {'incredible', 'khalistani', 'big', 'powerful', 'crucial', 'critical', 'lead', 'vital'}, 'media': {'social', 'canadian', 'cheap', 'relevant', 'vulture', 'godi', 'censoring', 'right', 'mixed', 'digital', 'national', 'global', 'dear', 'indian', 'international', 'independent', 'credible', 'same'}, 'money': {'actual', 'much'}, 'action': {'major', 'corrective', 'penal', 'appropriate', 'urgent'}, 'details': {'more', 'much', 'final'}, 'scheme': {'new', 'sustainable', 'organic', 'basic', 'environmental'}, 'foodsystem': set(), 'level': {'new', 'such', 'military', 'low', 'conscious', 'same', 'wide', 'next'}, 'agriculture': {'british', 'industrial', 'digital', 'regenerative', 'indian'}, 'meaning': set(), 'effort': {'humanitarian', 'instantaneous', 'stunning'}, 'relationships': {'long', 'strong'}, 'story': {'below', 'inspiring', 'full'}, 'days': {'last', 'difficult', 'more', 'dry', 'past', 'good', 'few', 'challenging', 'next', 'early'}, 'century': set(), 'tradition': set(), 'change': {'big', 'positive'}, 'yield': set(), 'pdf': set(), '@officialforsea': set(), '@countrytrust': set(), 'pm': {'ideal', 'indian'}, 'bus': {'only'}, '@_yogendrayadav': set(), 'organization': {'-', 'terrorist'}, 'contribution': {'11am', 'valuable', 'powerful', 'immense', 'small'}, 'message': {'important', 'specific', 'clear', 'only', 'full', 'political', 'loud'}, 'applications': {'other'}, 'piece': {'latest', 'new', 'earlier', 'investigative', 'incredible', 'great', 'lengthiest', 'interesting', 'short', 'important'}, 'job': {'new', 'hard', 'excellent', 'good'}, 'parliament': {'honest', 'indian'}, 'sector': {'agricultural', 'informal', 'striking'}, 'steps': {'next'}, 'day': {'first', 'hot', 'modern', 'single', 'wonderful', 'good', 'consecutive', '97th', 'international', 'black', 'glorious', 'bad', '69th', 'more', '90th', '342nd', 'amazing', 'great', 'big'}, 'rights': {'farmersprotest', 'free', 'fundamental', 'civil', 'many', 'liberal', 'global', 'poor', 'real', 'basic', 'democratic', 'constitutional', 'fair', 'human'}, '#': {'new', 'ongoing', 'such', 'british', 'first', 'talented', 'incredible', 'freenodeepkaur', 'healthier', 'recent', 'unprecedented', 'sustainable', 'global', 'full', 'continued', 'buff.ly/3henkid', 'beautiful', 'basic', 'same', 'black', 'largest', 'peaceful', 'married', 'other', 'happy', 'amazing', 'worst', 'great', 'small', '@sukhrajofficial', 'old', 'sellout'}, 'movement': {'ongoing', 'largest', 'organic', 'small', '-', 'national', 'global', 'anti', 'mass', 'whole'}, 'pandemic': set(), 'workers': {'abbatoir', 'silent', 'agricultural', 'gig'}, 'waste': {'shocking', 'plastic'}, 'cruelty': {'unnecessary', 'indifferent'}, 'info': {'more', 'regular'}, 'cities': {'main', 'central'}, 'incidents': set(), 'village': {'sadhuwali'}, 'goons': {'unidentified'}, 'weekend': {'special', '74th'}, 'supporters': {'other', 'high', 'more', 'modi', 'government', 'overseas', 'pro', '-', 'international'}, 'impact': {'negative', 'unusual', 'illusive', 'positive', 'immense'}, 'events': {'major', 'biggest', '-', 'spreader', 'digital', 'extreme', 'similar', 'super'}, 'narrative': {'-', 'new', 'indian', 'false', 'pro'}, 'farm': {'new', 'online', 'dartmoor'}, 'decisions': {'unjust', 'unilateral', 'risky', 'controversial', 'harrowing'}, '@sd_saurav': set(), 'guards': set(), 'trial': {'fair'}, 'chains': {'centralised', 'extractive'}, 'zayandehroud': set(), 'attempts': {'indian'}, 'towns': set(), 'gas': {'tear'}, 'march': set(), 'capital': {'national', 'indian'}, 'campaign': {'new', 'largest', 'farmersprotest', 'social', 'parliamentary', 'dangerous', 'national', 'exmoor'}, 'square': set(), 'exposé': {'excellent'}, 'profiles': {'fake', 'social', 'large'}, 'spreading': {'constant'}, 'earth': set(), 'opportunity': {'great', 'perfect', 'available', 'massive', 'amazing'}, 'names': {'fake'}, 'mill': set(), 'supportlocalbusinesses': set(), 'abuse': {'domestic', 'online', 'sexual', 'horrific'}, 'members': {'new', '@khalsa_aid', 'sangat', 'dead', 'former', 'current'}, 'assertion': set(), 'tip': set(), 'agents': set(), 'spirit': {'indomitable', 'same'}, 'accounts': {'more', 'contrary', 'indian'}, 'read': set(), 't': {'womenfarmers_atparliament'}, 'life': {'aquatic', 'better', 'long', 'mere', 'happy', 'daily', 'additional', 'real', 'rural', 'whole', 'human'}, '@foodshops': {'@ukshoplocal'}, '@timcorbett16': {'@visualpersist', '@orplastic', '@konstantin_gn'}, 'systems': {'sustainable', 'oppressive', 'immune', 'more'}, 'results': set(), 'flag': {'pakistani', 'national', 'separatist'}, 'rope': set(), 'fights': set(), 'elections': {'punjab'}, 'violations': {'ongoing', 'farmersprotest', 'continued', 'many', 'flagrant', 'human'}, 'resilience': {'inner'}, 'violence': {'serious', 'indian', 'brutal', 'sexual'}, 'scar': set(), 'need': {'great', 'other', 'desperate', 'medical', 'essential'}, 'right': {'basic', 'fundamental', 'democratic', 'constitutional', 'human', 'important'}, 'efforts': {'constant', 'ongoing', 'tireless', 'humanitarian', 'heroic', 'indian', 'legal'}, 'tactics': {'violent', 'heavy', 'handed', 'more', 'repressive'}, 'agitation': {'relentless'}, 'conversation-': set(), 'meeting': {'first', 'productive', 'next', 'engaging'}, 'activists': {'female', 'peaceful', 'local', 'other', 'canadian', 'colonial', 'more', 'right', '-', 'young', '@uk51ngh', 'international', 'global', 'many', 'anti', 'human'}, 'shells': set(), 'name': {'ideal'}, 'encounters': {'fake'}, 'farmlaws': {'gurunanakjayanti', 'terrible', 'prosecuteraisinow', 'controversial'}, 'world': {'just', 'new', 'entire', 'motivate', 'western', 'nicer', 'most', 'whole', 'dark'}, 'woman': {'young', 'first', 'only', 'old', 'black', 'dalit'}, 'plan': {'new', 'national', 'definite', 'global', '4b', 'longterm', 'strategic'}, 'problem': {'big', 'biggest'}, 'economy': {'largest', 'american', 'rural'}, 'age': set(), 'battle-': set(), 'number': {'maximum', 'total', 'large'}, 'citizens': {'fellow', 'muslim', '2nd', 'own'}, 'neglection': set(), 'families': {'many'}, 'family': set(), 'mps': {'local', 'hostile', 'top', 'more', 'punjab', 'inept', 'many', 'outright'}, 'crackers': set(), 'things': {'incredible', 'cheap', 'better', 'multiple', 'simple', 'good', 'great', 'few', 'powerful', 'many', 'best', 'basic'}, 'reaction': {'-', 'first', 'punjab', 'normal', 'anti', 'sikh'}, 'https://t.co/tcjefx27xm': {'sikhpa.com/farmersprotest'}, 'routes': set(), 'attention': {'new', 'much', 'global', 'international', 'more', 'particular'}, 'norms': {'fundamental', 'human'}, 'capitalisation': set(), 'strike': {'largest', 'nationwide', 'biggest'}, 'assembly': {'unlawful'}, 'conditions': {'hostile', 'harsh', 'decent', 'ideal', 'different', 'extreme', 'poor', 'near'}, 'videos': {'more', 'few'}, 'people': {'such', 'ignorant', 'ordinary', 'needy', 'wrong', 'important', 'wonderful', 'good', 'famous', 'indian', 'many', 'different', 'own', 'rural', 'shameless', 'peaceful', 'aware', 'common', 'indigenous', 'innocent', 'more', 'poorest', 'amazing', 'young', 'poor', 'misinformed', 'senseless'}, 'prisoners': {'sikh', 'political'}, 'class': {'t]he'}, 'stage': {'biggest'}, 'winter': {'cold'}, 'archive': {'robust'}, 'deaths': {'many', 'innocent', 'total', 'needless'}, 'sky': set(), 'expense': set(), 'pic.twitter.com/uyyg2owchw': set(), 'development': {'welcome', 'positive'}, 'commentators': {'poisonous'}, 'issue': {'latest', 'local', 'divisive', 'single', 'domestic', 'personal', '#', 'huge', 'serious', 'humanitarian', 'national', 'religious', 'unrealistic', 'human'}, 'corporations': {'big', 'large', 'gluttonous'}, 'mobilisation': {'largest'}, 'tool': {'new', 'powerful'}, 'corner': {'marvellous'}, 'voice': {'only', 'free', 'low', 'inner', 'louder', 'monolithic', 'restricted', 'big', 'global', 'real', 'international', 'powerful', 'political'}, 'intent': {'good'}, 'struggles': {'same', 'own', 'biggest'}, 'cultivators': set(), 'zayandehrood': set(), 'industry': {'agro', 'wider'}, 'conference': {'@conservative'}, 'congratulations': {'warm'}, 'night': {'same'}, 'months': {'first', 'hot', 'last', 'more', 'past', 'several', 'few', 'many'}, 'decision': {'wrong', 'terrible', 'big', 'superb'}, 'picture': {'true', 'big', 'clearer', 'beautiful', 'fake'}, 'sacrifices': {'personal'}, 'monument': {'national'}, 'greetings': {'warm'}, 'trick': {'dirty'}, 'politics': {'labour', 'authoritarian', 'internal', 'religious', 'canadian', 'indian', 'dirty'}, 'u': set(), 'understanding': {'greater', 'indepth'}, 'faces': {'ugly', 'few', 'familiar'}, 'requests': set(), 'movements': {'righteous', 'social', 'biggest', 'multiple', 'feminist'}, 'stunts': set(), 'gifts': {'unique', 'conscious'}, 'reporter': {'political', 'right'}, 'years': {'several', 'previous', 'last', 'many', 'next', 'early', 'past'}, 'view': {'close', 'bais'}, 'harm': {'economic', 'environmental'}, 'standard': {'high', 'gold'}, 'path': {'dangerous', 'difficult'}, 'calendars': set(), '@ja_ewald': set(), 'pmcarescam': set(), 'essence': set(), 'rings': set(), 'getaways': set(), 'experiences': set(), 'brief': {'latest'}, 'amount': set(), 'tips': {'above', 'sustainable', 'top'}, 'officers': {'public', 'another!sadistic'}, 'evidence': {'direct', 'substantial', 'clear'}, 'engagement': set(), 'manifesto': set(), 'fisherman': set(), 'coincidence': set(), 'attempt': {'shameless', 'vile', 'indian', 'cheap'}, 'kisaansinneed2': set(), 'awareness': {'more', 'much', 'global', 'public', 'vital'}, 'seat': set(), 'book': {'new', 'own'}, 'organisations': {'several', 'civil'}, 'production': {'latest', 'sustainable', 'total', 'high'}, 'bed': set(), 'demonstration': {'safe', 'continuous', 'upcoming', 'general'}, 'regime': {'dictatorial', 'authoritarian', 'insecure', 'facist', 'indian', 'fascist', 'right'}, 'kind': set(), 'reacts': set(), 'lovelivingvegan': set(), 'treatment': {'violent', 'peaceful', 'brutal', 'delhi', 'ill', 'misogynistic', 'unjust', 'inhumane', 'medical', 'non', 'fascist', 'fair'}, 'chairing': set(), 'counties': set(), 'points': {'daily'}, 'prayers': set(), 'law': {'new', 'third', 'cruel', 'contentious', 'uapa'}, 'mood': set(), 'field': set(), 'research': {'new', 'environmental', 'own', 'important'}, 'women': {'minded', 'other', 'brave', 'actual', 'strong', 'several', 'passionate', 'young', 'wonderful', 'indian', 'many', 'interesting', 'african'}, '@claudiawebbe': set(), 'partners': {'major'}, 'exchange': {'polite', 'foreign'}, 'resources': {'latest', 'helpful'}, 'forest': set(), 'space': {'social', 'clear', 'last'}, 'security': {'maximum'}, 'thousands': set(), 'information': {'more'}, '♂': {'️'}, 'step': {'important'}, 'funding': {'more'}, 'transition': set(), 'transcript': {'full'}, 'subsidies': {'british', 'agricultural', \"gov't\"}, 'funds': {'public', 'rural'}, 'business': {'in-', 'big', 'real', 'organic', 'own'}, 'entrants': {'new'}, 'advice': {'probono', 'free', 'legal', 'technical'}, 'future': {'agroecological', 'uncertain', 'long', 'dark'}, 'line': {'front', 'official'}, 'emergency': {'undeclared'}, 'highway': {'national'}, 'https://t.co/w1xgt22jkg': set(), 'गया': set(), 'pilot': {'sustainablefarmingincentive'}, 'pence': set(), 'supermarket': set(), 'arrival': set(), 'emitter': set(), 'visas': {'new', 'different'}, 'activity': {'political', 'criminal'}, 'students': set(), 'vote': set(), 'changes': {'biggest', 'upcoming', 'positive'}, 'tendencies': set(), 'roots': set(), 'toil': set(), 'sacks': set(), 'censorship': {'more', 'direct'}, 'birthday': {'consecutive', 'happy', 'fourth'}, 'organisation': {'international', 'private', 'best', 'terrorist'}, 'briefing': {'personal', 'full'}, 'pls': set(), 'town': {'indian'}, 'words': {'original', 'wise', 'other'}, 'order': {'moral', 'social', 'brahmanical'}, 'comment': {'further'}, 'festival': {'virtual'}, 'eats': set(), 'man': {'young', 'great', 'common', 'top', 'poor', 'arrogant', 'sad'}, 'culprit': {'main'}, 'fundraiser': {'special', 'educational', 'biggest'}, 'show': {'awesome', 'big', 'historic', 'huge'}, 'data': {'factual', 'much'}, 'anniversary': {'1st', '400th'}, 'कार्रवाई': set(), 'coverage': {'latest', 'worldwide', 'social', 'excellent', 'more', 'western', 'further', 'recent', 'fairer', 'national', 'much', 'most', 'independent', 'critical', 'passive'}, 'situation': {'worrying', 'same', 'current', 'human'}, 'producer': set(), 'supporter': {'old', 'consistent', 'dedicated'}, 'dairy': set(), 'stand': {'@bayer4cropsuk', 'ongoing', 'strong', 'questionable'}, 'water': {'sweet', 'scarce', 'free', 'cold', 'clean', 'bottled', 'black', 'fresh'}, 'bodies': set(), 'statement': {'bold', 'complete', 'embarrassing', 'full', 'powerful', 'strong'}, 'sources': {'grassroots', 'informal'}, 'pic.twitter.com/bxinnbejsl': set(), 'meal': {'basic'}, 'start': {'perfect'}, 'resort': set(), 'carpet': set(), 'son': {'good', 'old', 'indian'}, 'calls': {'first'}, 'gurdwaras': {'local'}, 'resource': {'great', 'precious'}, 'use': set(), 'assault': {'cold', 'sexual', 'indian'}, 'attitude': set(), 'dissent': set(), 'pltwps.it/_merogkg': set(), 'journalists': {'fav', 'respected', 'honest', 'several', 'young', 'indian', 'active', 'independent', 'genuine'}, 'update': {'good', 'recent'}, 'testimonies': {'eyewitness'}, 'reports': {'more', 'punjab', '@chrishill75', 'many', 'independent', 'multiple', 'shocking'}, 'pltwps.it/_4klpajx': set(), 'ones': {'fake', 'only'}, 'disregard': {'blatant'}, 'buyers': {'independent', 'interested'}, 'platform': {'new', 'digital', 'single', 'international', 'inclusive', 'democratic'}, 'sales': {'global'}, 'speaker': {'passionate'}, 'deepweb': {'main'}, 'nbcnews.com/news/world/ind': {'deadly'}, 'pic.twitter.com/6nzfwxgyci': set(), 'heel': set(), 'nights': set(), 'killings': set(), 'group': {'new', 'largest', 'canadian', 'cross', 'party', 'small', '-', 'independent', 'political', 'legal'}, 'minister': set(), 'justice': {'social', 'economic', 'full', 'international'}, 'ideas': set(), 'sustainability': {'long', 'buff.ly/3gdpbrj', 'local'}, 'consulate': set(), 'week': {'first', 'next', 'last'}, 'yrs': set(), 'lady': {'young', 'amazing'}, 'imprisonment': set(), 'जी': {'@sarojshrnm', '@rahulgandhi', '️', 'राहुल'}, 'event': {'@un_cfs', 'first', 'virtual', 'free', 'online', 'historic', 'digital', 'national', 'next'}, 'enquiries': set(), 'scale': {'industrial', 'large', 'national', 'small'}, 'study': {'new', 'major', 'national'}, '@narendramodi': set(), 'condolences': {'heartfelt', 'deepest'}, 'loss': {'huge', 'economic', 'immense'}, 'outlets': {'new', 'other', 'main', 'indian'}, 'cars': set(), 'control': set(), 'breed': {'new'}, 'speech': {'@uk51ngh', 'keynote', 'free', 'parliamentary'}, 'reality': {'harsh', 'on', 'sad', 'grim'}, 'time': {'first', 'high', 'difficult', 'more', 'long', 'right', 'second', 'good', 'perfect', 'lovely', 'same', 'enough', 'important'}, 'version': {'skewed', 'english', 'pilot', 'original'}, 'murder': {'intentional', 'brutal', 'horrific'}, 'heart': {'green', 'very'}, 'leaders': {'new', 'far', 'social', 'spiritual', 'religious', 'more', 'right', 'several', 'hindu', 'punjab', 'prominent', '@scukofficial', 'political', 'fascist'}, 'dogs': set(), 'others': {'many'}, 'killing': set(), 'proof': {'shocking'}, 'handles': set(), 'cancellation': set(), 'elements': set(), 'wing': set(), 'characteristics': set(), 'opposition': set(), 'crew': set(), 'investigation': {'brilliant', 'full'}, 'analysis': {'comprehensive', 'helpful', 'simple'}, 'pronouncement': set(), 'notion': set(), 'welcome': {'great', '@mahna5'}, 'measures': {'violent', '-', 'cruel', 'anti', 'democratic'}, 'official': {'senior'}, 'truth': {'half', '@thejazdhami', 'whole'}, 'identity': set(), 'identities': set(), 'animals': {'other'}, 'योगीजी_लठ_बजाओ': set(), 'gain': {'limited', 'political', 'financial', 'short'}, 'inquiry': set(), 'weeks': {'few', 'last', 'next'}, 'person': {'humane'}, 'pic.twitter.com/lmz7u6jgha': set(), 'kg': set(), 'leader': {'rare', 'fascist', 'facist'}, 'clip': set(), '🐑': set(), 'morchas': set(), 'emissions': set(), 'policy': {'agricultural', 'future', 'agrarian'}, 'element': set(), 'error': {'grave'}, '@khanumarfa': set(), '🔸': {'@emilynewsreader'}, 'aeroplane': set(), 'spokie': set(), 'legislation': {'new'}, 'roads': {'aberdeenshire', 'local', 'further', 'public'}, 'success': {'resounding', 'huge'}, 'effect': {'opposite', 'harmful', 'immediate', 'devastating'}, 'dawn.com/news/1648764': {'modi'}, 'https://t.co/a8voic1bpc': set(), 'campsites': set(), 'bookings': set(), '@rakeshtikaitbku': {'punjab'}, 'ਮੈ': set(), 'needs': {'basic'}, 'accident': set(), 'vegetables': set(), 'dignity': {'economic'}, 'ban': {'old', 'temporary'}, 'system': {'corrupt', 'streamlined', 'minimum', 'aginst', 'reverse', 'same', 'legal', 'vindictive', 'fractured'}, 'ingredients': {'active'}, 'democracy': {'largest', 'biggest', 'big', 'much', 'real', 'healthy', 'former'}, 'courage': {'such'}, 'resolve': set(), 'aid': {'farmersprotest', 'free', 'medical', 'legal'}, 'un_saveindianfarmers': set(), 'pic.twitter.com/7m3i6arriu': set(), 'song': {'new', 'sad'}, 'heat': set(), 'centre': set(), 'goals': set(), 'commercialization': set(), 'cronies': set(), 'developments': {'latest'}, 'leadership': {'political', 'global', 'strong'}, 'challenges': {'ongoing', 'significant'}, 'relies': set(), 'independence': set(), 'products': {'local', 'british', 'more', 'agricultural', 'homegrown'}, 'question': {'good', 'genuine', 'simple'}, 'घटकर': set(), 'price': {'fair', 'assured', 'better', 'higher', 'minimum'}, 'beings': set(), 'push': {'big'}, 'harvest': {'latest'}, 'chain': set(), 'assistance': {'technical', 'medical'}, 'agronomists': {'local'}, 'crops': {'nutritious', 'healthy', 'more', 'healthier', 'unharvested', 'arable', 'vegetable', 'damaging'}, 'rain': set(), 'abuses': {'ongoing', 'other', 'horrendous', 'legal', 'current', 'human'}, 'fate': set(), 'knowledge': {'traditional'}, 'profits': set(), 'की': {'जींद', 'आंदोलन', 'पार'}, 'opinion': set(), '@stemwomen': {'@mrsedithrigby'}, 'arguments': set(), 'atrocities': set(), 'revival': set(), 'glastonburyforchefs': set(), 'dog': {'elderly'}, 'pointer': set(), 'copy': {'free'}, '12months': {'past'}, 'upelections2022': set(), 'meat': {'unsustainable'}, 'camp': {'special'}, 'secretariat': set(), 'battleground': set(), 'survey': {'new', '-', 'national', 'trans', 'multiple', 'short'}, 'w/': {'new', 'interesting'}, 'imports': {'british', 'cheap'}, '%': {'phenomenal', 'staggering', 'sector,40', 'agricultural'}, 'करनाल': set(), 'tents': {'special', 'empty', 'last'}, 'challenge': {'online', 'fresh'}, 'explanation': {'brief'}, 'खाने': set(), 'growers': {'young', 'youngish'}, 'rubbish': set(), 'pic': {'old'}, 'shame': {'strong'}, 'pic.twitter.com/v1ummnf4ca': set(), 'pics': {'set', 'full'}, 'intelligence': set(), 'journalist': {'political', 'respected'}, 'गांधी': set(), 'ट्विट': set(), 'mahapanchayat': {'biggest'}, 'beef': {'sustainable', 'british', 'longhorn'}, 'ले': set(), 'rally': {'-', 'grand', 'massive', 'huge'}, 'choices': {'many', 'different'}, 'polls': {'local'}, 'material': set(), 'phenomenon': set(), 'कांग्रेस': set(), 'innovations': set(), 'politicians': {'british', 'iraqi', 'senior', 'many', 'more', 'indian', 'kurdish'}, 'teeth': {'false'}, 'continent': set(), 'regeneration': set(), 'owners': set(), 'fit': set(), 'hearing': {'next'}, 'approach': {'decentralized'}, 'incentives': set(), 'enviro': set(), 'agent': set(), 'channels': {'social', 'indian'}, 'charity': set(), 'closing': set(), 'test': {'reverse', 'blind', 'turtledove'}, 'app': {'new', 'exciting'}, 'diseases': {'major'}, 'pest': {'common'}, 'signs': {'own'}, 'proportions': set(), 'result': set(), 'pic.twitter.com/e2oyvqm8m9': set(), 'population': {'significant', 'general'}, 'lie': {'big'}, 'act': {'shameless', 'cheap', 'disgraceful', 'shameful', 'criminal', 'revolutionary'}, 'होटल': set(), 'grave': set(), 'थारे': set(), 'officer': set(), 'judges': set(), 'post': set(), 'behavior': {'cruel'}, 'pic.twitter.com/lcoojollcq': {'9monthsoffarmersprotest'}, 'attire': set(), 'crisis': {'major', 'humanitarian', 'greatest', 'covid'}, 'games': {'great'}, 'commitment': set(), 'equipment': set(), 'grown': {'local'}, 'pic.twitter.com/o2qh1lrrfg': set(), 'word': {'solid', 'magic', 'persian', 'single'}, 'campaigns': {'indian'}, 'stories': {'great', 'such', 'other', 'many', 'more', 'fake'}, 'rate': set(), 'harvest21': set(), 'mechanization': set(), 'varieties': set(), '@ibmdeveloper': set(), 'example': {'wonderful', 'glaring', 'great', 'good'}, 'projects': {'nearby', 'renewable'}, 'exploring': set(), 'agenda': {'political', 'nationalist', 'other'}, 'producers': {'great'}, 'holders': set(), 'चार': set(), 'company': {'sustainable', 'only'}, 'bills': {'new', 'first', 'agricultural', 'unconstitutional'}, 'countryside': {'healthier', 'happier'}, 'payments': {'public'}, 'discourse': set(), '@rihanna': {'theguardian.com/world/2021/feb', '👇', 'शहीद_जवान_शहीद_किसान', 'nodeepkaur'}, 'https://t.co/jnnn4f8tuk': {'lilrayrayofficial'}, 'session': {'46th', 'live', 'extended'}, 'remoaners': set(), 'गाँधी': set(), 'mementos': {'precious'}, 'fable': set(), 'sheep': set(), 'artwork': set(), 'differences': set(), 'hedgehogs': {'native'}, 'hashtag': {'new', 'historic'}, '🇿': set(), 'theme': set(), 'comments': {'@beyondmeat'}, 'growth': {'huge'}, 'insight': {'great', 'direct', 'real'}, 'variety': set(), 'floods': set(), 'launches': {'modi'}, '👉': set(), 'holder': set(), '️': {'⬇', '©', 'amazing'}, 'solutions': {'amicable', 'high', 'novel', 'potential'}, 'tools': {'new', 'inbuilt', 'environmental', 'intelligent'}, 'transactions': {'smooth'}, 'groups': {'international', 'vested', 'canadian', 'indian', 'many', 'various'}, 'month': {'more', 'eighth'}, 'outlet': {'independent', 'such', 'single'}, 'podcast-': {'@sikharchive'}, 'insult': set(), 'पर': {'किलोमीटर', 'पहले', 'भी18'}, 'मांगों': set(), 'lip': set(), 'goal': set(), 'remarks': {'shallow', 'such', 'derogatory'}, 'experience': {'unique', 'previous'}, 'form': {'physical'}, '@rahulgandhi': set(), 'subscribers': set(), 'https://t.co/pxela2677u': set(), 'presence': {'heavy'}, 'demonstrations': {'ongoing', 'nationwide'}, 'police': {'disgust', 'delhi', 'punjab', 'indian', 'fake', 'incompetent'}, 'personnel': set(), 'stuff': {'good'}, 'memory': set(), '☀': set(), 'greed': set(), 'economies': set(), '@economist_woi': {'@orplastic'}, 'poverty': {'chronic'}, 'exhibition': {'photographic'}, 'technicolour': set(), 'meetings': set(), 'one': {'hot', 'other', 'real'}, 'hedgerows': set(), 'lifecycle': set(), 'today': {'huge'}, 'men': {'young', 'elderly', 'innocent', 'revolutionary', 'richest'}, 'shirt': set(), 'cells': set(), 'locations': set(), 'threats': {'many', 'greatest'}, 'वाकिफ़': set(), 'provisions': {'langar', 'medical'}, 'solicitors': set(), 'सकती': set(), 'numbers': {'just', 'smaller', 'large', 'huge'}, 'streams': set(), 'exploitation': set(), 'medal': set(), 'supermarkets': {'major'}, 'dream': set(), '\\u2063': {'*', 'spud*tastic'}, 'crises': {'enviro', 'humanitarian'}, 'techniques': {'modern'}, 'implementation': {'forceful', 'indian'}, 'game': {'euro2020final', 'little', 'dangerous'}, 'articles': set(), 'flags': {'black'}, 'improvements': set(), 'cylinders': set(), 'shelter': {'medical'}, 'perspectives': set(), 'paper': set(), 'prices': {'better', 'remunerative', 'fair'}, 'apples': {'bad', 'british'}, 'degradation': {'environmental'}, 'acreage': set(), 'machinery': set(), 'insights': set(), 'produce': {'great', 'agroecological', 'british', 'kentish', 'organic', 'seasonal'}, 'ਸਾਡੇ': set(), 'revocation': {'thorough'}, 'bjpattackedfarmers': set(), 'range': {'diverse'}, 'rollout': set(), 'approaches': {'agroecological'}, 'energylivenews.com/2021/07/01/gov': set(), 'questions': {'basic', 'right', 'difficult'}, 'management': {'poor'}, 'deals': {'new', 'corrupt', '-', 'corporate', 'international', 'pro'}, 'casestudy': set(), 'जिंदा': set(), 'training': {'inclusive'}, 'swimming': {'open'}, 'endorsement': {'blatant'}, 'booster': set(), 'rates': set(), 'content': set(), 'fertilisers': set(), 'highlights': {'2nd'}, 'equity': set(), 'head': set(), 'relief': {'immediate'}, 'educators': set(), 'era': set(), '@mrsinghs': {'@monica_gill1'}, 'foodstandards': {'scottish'}, 'गर्मी': set(), 'markets': {'diverse', 'weekly'}, 'fairs': {'annual'}, 'tractor': set(), 'agreement': {'new'}, 'deficit': {'democratic', 'serious'}, 'topic': {'controversial', 'global', 'important'}, 'बताने': set(), 'बलात्कार': set(), 'animal': set(), 'snapshot': set(), 'partner': {'major'}, 'quality': {'bad'}, 'thought': set(), 'https://t.co/vw1apqa5et': set(), 'chicken': {'more', 'british'}, '@samajwadiparty': {'@incindia'}, 'margins': {'large'}, 'insects': set(), 'vegetation': set(), 'jump': set(), 'betrayal': {'huge'}, 'alternative': set(), 'panic': {'-', 'first', 'brexit'}, 'season': {'great', 'busiest'}, 'assessment': {'brutal'}, 'bloc': set(), 'landscapes': {'irreplaceable'}, 'down': {'gradual'}, 'adults': {'young'}, 'palm': {'independent', 'small'}, 'practice': {'current'}, 'measure': set(), 'course': set(), 'drink': {'sweet', 'non', '-', 'alcoholic'}, 'public': {'general'}, 'handle': set(), 'ਸੂਰਮਾ': set(), 'reasons': set(), 'idea': {'good'}, 'interview': {'emotional', 'live', 'exclusive', 'full', 'last', 'informed', '@bbcnewsnight'}, 'health': {'mental'}, '|': {'undemocratic'}, 'daughter': set(), '@aslichamkaur': set(), 'foods': set(), 'corn': set(), 'landholders': {'small'}, '@nfuenvironment': set(), '@cbcnewsbc': set(), 'wheather': set(), 'pic.twitter.com/z1sdhadweu': set(), 'https://t.co/nhr691jmfj': set(), 'mentors': {'brilliant'}, 'participants': {'pandemic'}, 'vintage': set(), 'pic.twitter.com/ivepzs7cxa': set(), 'market': {'first', 'open', 'indian'}, 'redistribution': set(), 'rapper': set(), '@twitter': {'same', 'genocidal'}, 'request': {'indian'}, 'voices': {'new', 'collective', 'influential', 'various', 'northern', 'prominent', 'younger', 'respected'}, 'recipe': set(), 'industries': set(), 'incidence': set(), '@ofgorganic': set(), 'pic.twitter.com/5r3uyke9wr': set(), 'widower': {'active', 'old'}, 'model': {'regenerative'}, 'webinar': {'free'}, 'aspects': set(), 'site': {'fearless', 'respected'}, 'promises': set(), 'directory': set(), 'sovereignty': set(), 'employee': set(), 'platforms': {'social', 'different', 'modern'}, 'colony': set(), 'journey': {'innovative', 'own'}, 'ਹੋਇਆ': set(), 'ਲੱੜਦੇ': set(), 'ਲੈ': set(), 'death': {'navreetsingh', '12th', 'own', 'second'}, 'cow': set(), 'calf': set(), 'plague': {'devastating'}, 'shell': {'tear'}, 'drama': set(), 'worldmilkday': set(), 'walho': set(), 'deadline': {'crucial'}, 'sitewide': set(), '🏾': {'️'}, 'fans': set(), 'minute': set(), 'https://t.co/hxyaopiu72': {'norge'}, '@plaid_cymru': set(), 'fact': set(), 'feature': {'first', '@sportsnet'}, 'connection': {'canadian', 'deep', 'rooted', 'strong'}, 'wheat': set(), 'concerns': {'grave'}, 'pic.twitter.com/x77vz3onkj': set(), 'parts': {'certain', 'other', 'different'}, 'weather': {'warm', 'dry', 'extreme'}, 'shakshuka': set(), 'eggs': set(), 'shooting': {'mass'}, 'look': {'good', 'closer', 'great'}, 'reforms': {'new', 'long', 'indian', 'agricultural', 'controversial', 'digital', 'much', 'unjust'}, 'grounds': {'possible'}, 'tweet': {'indian', 'famous', 'single'}, 'blackout': {'wide'}, '6months': set(), 'cooperative': set(), 'farms': set(), 'luck': set(), 'solution': {'amicable'}, 'trailer': set(), 'documentary': {'21minute', 'mini', 'full'}, 'responses': set(), 'off': {'ongoing', 'indian'}, 'tariffs': set(), 'cute': set(), 'ਕਿਸਾਨਾ': set(), 'personalities': set(), 'rats': set(), 'neighbours': set(), 'methods': {'cheaper'}, 'thinking': {'critical'}, '@dgeast1': {'@policyrural'}, 'schedule': set(), 'politician': set(), 'response': {'violent', 'positive', 'brave', 'strong', '-', 'delicious', 'official', 'undemocratic', 'predictable', 'indian', 'anti', 'democratic'}, 'units': set(), 'cattle': {'-', 'semi', 'rare', 'wild'}, 'area': {'local', 'isolated', 'rural'}, 'tulips': {'purple', 'huge'}, 'litany': set(), 'negligence': set(), 'hurdle': set(), 'sharpish': set(), 'blood': set(), 'condition': set(), 'hospital': set(), 'voters': set(), 'buses': set(), 'finance': {'green'}, 'designs': set(), 'band': set(), 'works': {'environmental'}, 'kitchen': {'communal'}, 'photo': set(), 'sunshine': set(), 'के': {'से'}, 'authorities': {'indian'}, 'cases': {'baseless', 'false', 'criminal', 'prolonged', 'motivated'}, 'billionaires': set(), 'rainbow': set(), 'being': {'well'}, 'impacts': set(), 'frailty': set(), 'bit.ly/321ilci': {'friendly'}, 'erasure': set(), 'society': {'civilised', 'oldest', 'civil'}, 'activist': {'female', 'social', '21yo', '@trtworld', 'environmental', 'dalit', '21yr', 'young', 'swedish', 'labour', 'indian', 'international', 'old', 'indigenous'}, 'annihilation': set(), 'centuries': set(), 'solidarity': {'true', 'complete', 'social'}, 'attrition': set(), 'children': {'precious'}, 'incomes': set(), 'buyer': set(), 'portion': set(), 'country': {'first', 'same', 'other', 'entire', 'democratic', 'whole', 'own'}, 'times': {'difficult', 'busy', 'tough'}, 'lands': set(), 'breath': set(), 'types': {'different'}, 'purpose': set(), 'traitor': set(), 'connectivity': {'rural'}, 'spreaders': set(), 'chaos': set(), 'case': {'ongoing', 'third', 'criminal'}, 'patients': {'covid'}, 'hospitals': {'many'}, 'measurement': set(), 'organizations': {'more', 'other', 'human'}, 'hand': {'upper', 'other'}, 'initiative': {'new', 'interesting', 'great', '@scukofficial'}, 'policymakers': set(), 'origin': set(), 'restraint': set(), 'mouths': set(), 'actions': {'latest', 'notorious', 'potential', 'online', '-', 'inhumane', 'anti', 'political', 'democratic', 'fascist', 'draconian'}, 'portal': set(), '@abpnews': set(), 'network': set(), 'pic.twitter.com/vdwxsyhrt1': {'real'}, 'difference': {'big', 'huge'}, 'bhakts': {'deluded'}, 'depravity': {'moral'}, 'unionists': {'global'}, 'greenbacks': set(), 'currency': set(), 'holding': set(), 'allegory': set(), 'regenerativeagriculture': set(), 'call': set(), 'goods': {'public'}, 'situations': {'systemic'}, 'ficasalles': set(), 'podcasts': set(), 'ਵਿੱਚ': set(), 'gatherings': {'local'}, 'levels': {'extraordinary'}, 'socs': set(), 'asap': set(), 'page': {'front'}, '@hvsbanwait': set(), 'capacity': set(), 'exceptions': set(), 'fruit': {'fresh'}, 'corporates': set(), 'agencies': {'pakistani'}, 'embassy': {'democracy”:us', 'thriving'}, 'miscreants': set(), 'बंद': {'सेकना'}, '@majorgauravarya': set(), 'regimes': {'oppressive', 'authoritarian', 'fascist'}, 'playbook': set(), 'pea': {'chick'}, 'offence': set(), 'जलकर': set(), 'drinks': {'soft'}, 'discussion': {'inspirational', 'open'}, '@gndgravesend': set(), 'illustration': {'great'}, 'hands': {'corporate'}, 'bigotry': set(), 'cabinet': set(), 'marketing': set(), 'beauty': set(), 'protection': {'covenant'}, 'brothers': {'more'}, 'album': {'new'}, 'youth': {'inspiring', 'more', 'courageous'}, '@monica_gill1': set(), 'spirits': {'high'}, 'offices': set(), 'wastes': set(), '@kisanektamorcha': {'@uk51ngh'}, 'souls': {'such', 'various'}, 'war': {'public', 'long'}, 'friends': {'many'}, 'education': set(), 'summer': {'hot'}, 'environments': set(), 'prison': {'indian'}, 'crackdown': {'massive'}, 'terms': set(), 'takeover': {'free', 'corporate', '3rd'}, 'suffering': set(), 'trigger': set(), 'conflict': {'religious'}, 'incident': set(), 'violation': {'clear', 'human'}, 'oppression': {'worst', 'indian'}, 'stewards': set(), 'guarantee': {'legal'}, 'substance': set(), 'officials': {'indian'}, 'process': {'peaceful', 'democratic'}, 'nets': set(), 'महीने': {'से'}, 'edition': {'international'}, 'villages': set(), 'india-': set(), 'cupcakes': set(), 'maize': set(), 'pollution': set(), 'traditions': set(), 'persons': set(), 'fruits': set(), 'lack': set(), 'outburst': set(), 'pic.twitter.com/sq2om65hph': set(), 'gold': set(), 'host': set(), 'language': {'disgusting'}, 'governments': {'international', 'fascist'}, 'giants': set(), 'circumstances': set(), 'pic.twitter.com/jjk4ua1nns': set(), 'highways': {'national'}, 'award': set(), 'dedication': set(), 'hour': {'enjoyable'}, 'places': {'right'}, 'affects': {'detrimental'}, '@pontifex': set(), 'buff.ly/38wtdg0': set(), 'extremism': {'nationalist', 'indian'}, 'unions': {'main'}, 'companies': {'private', 'social', 'large'}, 'बैरिकेड': set(), 'reminder': {'daily', 'constant'}, '🤗': set(), 'protester': {'unarmed'}, 'arrest': {'arbitrary', 'illegal', 'recent'}, 'frontlineheroes': {'many'}, 'thanks': {'amazing', 'special', 'hilarious', 'latest', 'watsed', 'many', 'huge'}, '@loujnicholls': {'@jonestherose'}, 'reps': set(), 'circles': set(), 'internet': set(), 'division': set(), 'plants': {'chilling'}, 'resident': set(), '@cmahumanities': set(), 'temperatures': set(), 'states': {'many'}, 'end': set(), 'views': {'latest', '-', '@scukofficial', 'nazi', 'extreme', 'anti', 'sikh'}, 'election': {'urban', 'general', 'next'}, 'seva': set(), 'will': {'strong'}, 'reporters': {'good', 'informed', 'racist', 'right', 'reliable'}, 'necessities': set(), 'intention': set(), 'help': {'big'}, 'electricity': set(), 'lines': {'communal', 'front', 'few', 'long'}, 'values': {'democratic'}, '@sikh_coalition': set(), 'protocols': set(), 'wildlife': {'local'}, 'pesticides': {'fewer'}, 'doc': set(), 'figure': {'respected', 'high', 'prominent'}, 'mob': {'nationalist'}, 'trip': {'upcoming'}, 'hours': {'less', 'few', 'last', 'next'}, 'cook': set(), '@skillsforchefs': set(), 'debate': {'unwarranted', 'damning', 'indian', 'recent', 'parliamentary', 'worldsbiggestprotest', 'urgent', 'lively', 'agro', 'oversubscribed'}, 'record': {'bad'}, 'press': {'free'}, 'phones': {'smart'}, 'keepers': {'international'}, 'account': {'patriotic', 'personal'}, 'up': {'free'}, 'spectacles': {'free'}, 'panels': set(), 'cottages': {'little'}, 'pictures': {'red'}, 'force': {'other', 'private', 'brute', 'strong', 'very', 'labour', 'excessive', 'full', 'powerful', 'political', 'same'}, 'meet': {'international'}, '𝙪𝙣𝙨𝙩𝙤𝙥𝙥𝙖𝙗𝙡𝙚': set(), 'crimes': {'motivated', 'religious'}, 'pressure': {'international', 'more', 'global'}, 'disagreement': {'silent'}, 'tyranny': {'indian'}, 'watch': {'same'}, 'sites': {'global', 'major', 'various', 'different'}, 'ideology': set(), 'parallels': set(), 'matters': {'many', 'needed', 'internal'}, 'trend': {'new'}, 'newsletter': set(), 'couple': {'past'}, 'protesters': {'peaceful', 'busy', 'indian'}, 'atmosphere': set(), 'member': {'fascist'}, 'fluency': set(), 'cm': {'punjab'}, 'forum': {'same'}, 'rise': {'remarkable', 'extreme'}, 'pic.twitter.com/may1dkpfbe': {'temperatures.#farmersprotest'}, 'camps': {'medical'}, 'items': {'other', 'necessary'}, 'storm': {'huge'}, 'park': set(), 'programming': set(), 'winners': {'sbs'}, 'ways': {'many'}, 'nationalism': {'militant', 'right'}, 'https://t.co/utaxmq2l8j': {'youtu.be/fbymy5yz1w4'}, 'salute': {'future'}, 'hardworking': set(), 'pic.twitter.com/pjt1iysqhq': set(), '@worldsikhorg': {'@scukofficial', '@sikhassembly'}, 'warriors': {'true'}, 'focus': {'international'}, '@sikhtoons': {'respected'}, 'writers': {'many'}, 'twitter.com/modhaliwal/sta': set(), '@abvpvoice': set(), 'association': set(), 'actors': {'same', 'foreign', 'indian'}, 'series': set(), 'engineer': set(), 'journalism': {'genuine', 'criminalising'}, 'winters': set(), 'stakeholders': set(), 'race': {'human'}, 'nationalists': {'hindu', 'right', 'indian'}, 'farmersprotest': {'🏻', '…', '@prime', 'wrong'}, 'period': {'current'}, 'theory': {'crazy'}, 'bots': {'nationalist', 'indian'}, 'elites': {'nationalist'}, 'supplies': set(), 'behaviour': {'fascist', 'bizarre'}, 'involvement': {'prominent'}, 'leanings': {'political'}, 'input': {'great'}, 'nomination': {'current'}, '@toffeeladies': {'@therealnihal'}, 'links': {'khalistani'}, 'freedoms': set(), 'guide': {'quick', 'useful'}, 'scarves': {'bright', 'yellow'}, 'latte': set(), 'out': set(), 'female': set(), 'aim': set(), 'corps': set(), 'fight': {'good', 'eternal'}, 'culture': {'whole'}, 'body': set(), 'fundraising': set(), 'debates': {'many', 'regular', 'global'}, 'screens': set(), 'preparations': {'excellent'}, 'nature': {'true', 'fascist'}, 'toddler': {'old'}, 'cover': {'new', 'front', 'international', 'inspirational'}, 'magazine': {'@time'}, '@clubhouse': {'3rd'}, 'celebrity': {'4th', 'local', 'midland', 'humanitarian'}, 'farmersprotest100days': {'delicious', 'langar'}, 'facilities': set(), 'scholar': {'muslim'}, 'relevance': set(), '@employher': {'@itspreetsohi'}, 'actress': {'british', 'random'}, 'jar': set(), 'providers': set(), 'kaur': {'old'}, 'pic.twitter.com/5jq4xq3vxp': {'farmersprotest'}, 'existence': {'basic'}, 'birth': set(), 'songs': {'dharmic', 'hindi'}, 'pic.twitter.com/iyhssl4ita': set(), 'mining': set(), 'bail': {'nodeepkaur'}, 'student': set(), 'share': set(), '@navyuggill': set(), 'pages': {'many'}, 'individuals': {'unregistered'}, 'nazar': set(), 'pic.twitter.com/pgf4sgs9po': {'3monthsofdelhiprotest'}, 'https://t.co/wbnxo25nhh': set(), 'innovation': {'new', '🐮'}, 'commitments': {'other'}, 'income': set(), 'confines': set(), 'ratio': set(), 'rooms': set(), 'skies': set(), 'list': {'long'}, 'minutes': set(), 'stall': set(), 'pic.twitter.com/gyjr8kfn9': set(), 'claims': {'baseless', 'many', 'false', 'unsubstantiated'}, 'primer': {'fantastic', 'quick', 'simple'}, 'enforcement': set(), 'representation': {'true', 'legal'}, '@khalsa_aid': {'farmersprotest'}, 'ਸੰਘਰਸ਼': set(), 'ਲਈ': set(), 'guest': set(), 'pic.twitter.com/zz5yiixujw': set(), 'cause': {'just', 'humanitarian', 'global'}, '@fairtradeuk': set(), 'shares': set(), 'steer': set(), 'hub': set(), 'crowds': {'massive', 'huge'}, 'foundations': set(), 'basis': set(), 'sentiment': {'public'}, 'tractors': set(), 'speeches': {'fiery', 'political', 'divisive'}, 'coma': set(), 'promise': set(), '@houseofcommons': set(), 'सारे': set(), 'consultations': set(), 'episodes': {'more'}, 'arrangements': set(), 'documents': set(), '📷': set(), 'panel': set(), 'boy': {'young', 'amazing'}, 'chamber': {'main'}, 'pic.twitter.com/0v24ojhxlg': {'nodeepkaur'}, 'weight': {'huge'}, 'care': {'good'}, 'mahapanchayats': {'more'}, 'daylight': {'broad'}, 'ਗਈਆਂ': set(), '@jay1official': {'@thejazdhami', '@theerasingh'}, 'framework': set(), 'disease': set(), 'resistance': set(), 'hashtags': {'jingoistic', 'other', 'own', 'indian'}, 'news-': set(), 'ros': {'huge'}, 'factory': set(), 'habitats': set(), 'writer': {'great', 'aspiring', 'rural'}, 'contributor': {'@baaznewsorg'}, 'pic.twitter.com/wiyadpz5tf': set(), 'safeguards': {'agricultural', 'obvious'}, 'threat': {'major', 'serious', 'real'}, 'crowd': {'overwhelming', 'huge'}, 'vacation': set(), 'wires': set(), 'पगड़ी': set(), 'article.@bbcbreaking': set(), 'thinkers': set(), 'facebook.com/197939282080/p': set(), 'brands': set(), 'lambs': set(), 'ਉਹ': set(), 'hope': {'new', 'have'}, 'summers': set(), 'tag': {'separatist'}, 'warfare': {'psychological'}, 'gathering': {'largest'}, 'implications': set(), 'minds': set(), 'considerations': set(), 'allegations': {'several', 'false', 'unsubstantiated'}, 'rule': set(), 'istandwithfarmers': set(), 'feedback': set(), 'scam': {'biggest'}, 'administration': {'indian', 'current', 'right', 'dirty'}, 'radicalization': {'ultra'}, 'surge': {'upward'}, 'plot': {'-', 'anti', 'nationalist'}, 'pic.twitter.com/yprbeqxdx5': {'farmersprotest'}, 'wage': set(), 'nationals': set(), 'career': set(), 'https://t.co/zp6e6sxi1w': set(), 'style': {'true', 'military'}, 'capitalism': {'free'}, 'complaints': {'viewer'}, 'bias': {'continuous'}, 'torture': {'further', 'possible'}, 'condemnation': {'strict'}, 'light': {'more', 'negative', 'powerful'}, 'status': {'2nd'}, 'pannel': {'female'}, 'conversation': {'important'}, 'stars': {'international', 'indian'}, 'activities': {'political'}, 'alight': {'social'}, 'fog': set(), 'praise': {'️'}, 'releasedetainedfarmers': {'best'}, 'psychology': {'poor'}, '@punjab2000music': set(), 'novel': set(), 'audiences': {'diverse'}, '@uppy_singh': {'great'}, 'tactic': {'classic'}, 'regression': {'dangerous'}, 'deregulation': set(), 'lobby': {'virtual', 'recent', 'parliamentary', 'human'}, 'explainer': {'great', 'quick', 'short', 'sharpest'}, 'economist': {'brilliant'}, 'awakening': set(), 'trap': set(), 'destruction': {'ecological'}, 'versions': set(), 'stations': {'several', 'important'}, 'sophistication': {'high'}, 'criticism': {'widespread', 'peaceful'}, 'posts': {'fake', 'social', 'related', 'positive'}, 'mistake': {'huge'}, 'pic.twitter.com/evnjz43q4h': {'🏻'}, 'google': {'benign'}, 'jokes': {'online'}, 'rape': {'custodial'}, 'ad': {'full'}, 'disobedience': {'ongoing', 'civil'}, 'contract': {'social'}, 'petition': {'online', 'parliamentary'}, 'mother': set(), 'reform': {'agricultural'}, 'railrokoforfarmers': set(), 'orgs': {'countless', 'human'}, 'creator': set(), 'panthpunjab.substack.com/p/why-the-pant': {'already-'}, 'instagram.com/p/clpfqdjgjaq/': {'unique', 'footage-'}, 'teraa': {'bhane'}, 'pancakes': set(), 'batch': set(), 'guy': {'good', 'little'}, 'agendas': {'other'}, 'unpacking': set(), 'twitter.com/bbcrosatkins/s': set(), 'bidder': set(), 'increase': set(), 'periods': set(), 'drivers': set(), 'tyrants': set(), 'principles': {'core', 'universal', 'democratic'}, 'eye': {'blind'}, 'https://t.co/ms4v6ff7dx': {'saynotoplastic'}, 'effects': {'long', 'worst'}, '@rehmatphotofilm': {'amazing', 'respected'}, 'toolkit': {'basic', 'social', 'informational'}, 'scrutiny': {'new', 'international', 'more', 'unprecedented'}, 'filmmaker': {'young'}, 'wrt': set(), 'release': {'immediate', 'possible'}, 'summary': set(), '@bbcworld': {'@bbcnewsnight'}, 'acts': {'such', 'injust'}, 'ambassadors': {'global'}, 'lawyers': {'more', 'civil', 'south', 'asian', 'human'}, 'take': set(), 'clothes': set(), 'उनपर': {'कारण'}, 'crooks': set(), 'judiciary': {'indian'}, 'attorneys': {'south', 'other', 'human', 'civil', 'asian', 'american'}, 'girl': {'young', 'political'}, 'programs': {'many'}, 'warrants': set(), 'sharing': {'last'}, 'occurrences': set(), 'face': {'new', 'real'}, 'valentinesdayswithfarmers': set(), 'warrant': {'-', 'bailable', 'non'}, 'திரும்பப்': set(), 'vision': set(), 'weapons': set(), 'army': {'indian'}, 'veterans': {'former', 'elderly', 'indian'}, 'planet': {'liveable'}, 'nonprofit': {'canadian'}, 'soldier': set(), 'massacres': set(), 'office': {'old'}, 'frame': set(), 'छापेगा': set(), 'joke': {'utter', 'absolute'}, 'vigor': {'such'}, 'boys': set(), 'orthopedists': set(), 'spines': set(), 'star': {'real', 'global', 'american'}, 'pink': set(), 'grabs': set(), '@borisjohnson': set(), 'concept': {'original'}, 'size': set(), 'pockets': set(), 'living': set(), 'subtitles': set(), 'https://t.co/mpy7epbmpe': set(), '@jazzyb': {'@scukofficial', 'real'}, 'farmersarenotterrorists': set(), 'schemes': set(), 'rites': set(), 'procession': set(), 'factor': set(), 'belt': set(), 'cold': {'bitter'}, 'headspace': set(), 'commentary': set(), '@thesikhnet': {'@scukofficial'}, 'breakdown': {'quick'}, 'grip': set(), 'fractions': set(), 'researcher': set(), 'pic.twitter.com/zofbubl4sq': set(), 'deployment': set(), 'https://t.co/volrhwnzuv': set(), 'direction': {'positive'}, 'thankyou': set(), 'labourers': {'rural'}, 'poem': {'heartfelt'}, 'https://t.co/l00jzbrivn': set(), 'dues': {'rightful'}, 'broadcaster': {'indian'}, 'snip': set(), 'reply': {'@amandacerny'}, '🚨': set(), 'देखिए': set(), 'artists': set(), 'reason': set(), 'adoption': {'low'}, 'forests': set(), 'foot': {'back'}, 'nationalist': set(), 'orientation': {'sexual'}, 'supremacy': set(), 'obligation': {'moral'}, 'facts': {'lesser'}, 'doors': {'closed'}, 'bonds': {'personal'}, 'releasenavdeepkaur': set(), 'inequalities': set(), 'introduction': set(), '@speedytohike': set(), 'contributions': {'amazing'}, 'brother': {'younger'}, 'followers': set(), 'सरकार': {'होगा', 'तक'}, 'elite': {'wealthy', 'indian'}, 'city': set(), '@priyankagandhi': set(), 'actor': {'old', 'legendary', 'indian'}, 'side': {'other', 'positive', 'wrong', 'same', 'right'}, 'viewing': {'essential'}, 'किसानो_अब_रेल_रोको': set(), 'statements': set(), 'theguardian.com/world/2021/feb': {'@guardian'}, 'proceedings': {'legal'}, 'mindset': set(), 'nazis': {'modern'}, 'snow': {'clear'}, '@morrisons': set(), 'ख्वाब': set(), 'जयहिन्द': set(), 'cell': set(), 'dive': set(), 'instagram.com/_jk_photograph': set(), 'parents': {'own'}, 'display': {'disgraceful'}, 'yr': {'old'}, 'examination': {'medical'}, 'stain': set(), 'mention': set(), 'fund': set(), 'grants': set(), 'repression': {'condemn'}, 'decades': set(), 'broadcast': set(), '@amnesty': {'@tandhesi'}, '75yr': set(), 'organisers': set(), 'दूँ': {'बता'}, 'galore': set(), 'website': set(), 'equivalent': set(), 'set': {'helpful'}, 'influencers': {'many', 'sikh', 'social'}, 'theories': {'insane'}, 'swing': {'full'}, '🚜': {'peaceful', '#', 'farmerprotest'}, 'charities': set(), 'hunger': set(), 'good': {'collective'}, '@sdgadvocates': set(), 'silence': set(), 'canister': {'tear'}, 'blunder': set(), 'feelings': {'mixed'}, 'districts': set(), 'गोदी': set(), 'dallas': set(), 'annadaatas': set(), 'concern': {'genuine', 'sweeping', 'deep'}, 'vikde': set(), '@jeremycorbyn': {'@keir_starmer'}, 'extremist': {'right'}, 'tension': {'racial'}, 'misjudgement': {'serious'}, 'targeting': {'horrific', 'unacceptable'}, 'territory': {'else', 'conservative'}, 'gurdwara': {'local'}, 'fascist': {'right'}, 'idioit': {'fucking'}, 'rat': {'ugly'}, 'stone': {'stepping'}, 'sikh': {'anti'}, '@seemamalhotra1': {'@uk51ngh', '@keir_starmer', 'sellout'}, 'interest': {'minimal'}, 'mp': {'local', 'labour'}, 'passion': {'absolute'}, 'party': {'political', 'same', 'own'}, 'notice': set(), 'टिकरी': set(), 'pic.twitter.com/ykfjnmmgdr': set(), 'spelling': {'wrong'}, 'cents': set(), 'buying': set(), 'freenodeepkaur': set(), 'https://t.co/mmxlooxu48': set(), 'lies': {'outright', 'outrageous'}, 'link': {'below', 'full'}, 'leadeship': set(), 'enablers': set(), '@patrickbrownont': set(), 'thoughts': {'great'}, 'racism': {'-', 'anti', 'black'}, 'arrests': set(), 'onerevolution': set(), 'punjabfarmers': set(), 'celebrities': {'eminent', 'social', 'few', 'spineless', 'other', 'indian', 'international', 'foreign'}, 'monopolies': set(), 'queries': set(), 'legislators': {'british'}, 'पहली': set(), 'बार': set(), 'minority': {'religious'}, 'embarrassment': set(), 'enemies': set(), 'affairs': {'internal'}, 'fascists': {'parochial', 'patriarchal', 'indian'}, 'tears': set(), 'vehicle': set(), 'colors': set(), 'extremists': {'right'}, 'self': set(), 'policemen': {'extra'}, 'consequences': set(), 'connectivities': {'international'}, 'depiction': set(), 'barricades': {'peaceful', 'concrete', 'extraordinary'}, 'propaganda-': set(), '@theerasingh': {'-based'}, 'property': {'public'}, 'interference': {'outside', 'unacceptable'}, 'misinformation': set(), 'dress': set(), 'bullets': set(), 'alarm': set(), 'resolution': {'peaceful', 'meaningful'}, 'mobs': {'murderous'}, 'purifier': set(), 'source': set(), 'pricing': set(), 'raho': set(), 'protections': {'environmental'}, 'grandparents': set(), 'kings': set(), 'amenities': set(), 'ਹੀ': {'ਤਾਂ'}, 'scenario': {'ongoing', 'present'}, 'instructions': {'further'}, 'searches': {'usual'}, '@pmoindia': set(), 'district': {'shamli'}, 'cheers': {'loud'}, 'suppression': {'violent'}, 'bloodshed': {'further'}, 'pic.twitter.com/dfhid6lpke': set(), 'dialogue': {'peaceful', 'amicable', 'unbiased'}, 'pic.twitter.com/wimzgfutzg': set(), 'cooperations': {'destructive', 'giant'}, 'governance': set(), 'overreaction': {'abusive', 'hateful', 'massive'}, 'proposal': {'last'}, 'expert': {'forensic'}, 'tribuneindia.com/news/nation/si': {'internetban'}, 'vaheguru': {'unknown'}, 'perception': set(), 'intervention': set(), 'scots': set(), 'restrictions': {'current', 'pandemic'}, 'perceptions': {'false'}, 'options': {'different'}, 'kaurs': {'younger'}, 'meltdown': {'total', 'incredible'}, 'insecurities': {'indian'}, 'caste': {'lower'}, 'hero': {'fake'}, 'mothers': set(), 'ஜி.வி.பிரகாஷ்': {'நடிகர்'}, 'detection': set(), 'thread': set(), 'boycott': set(), 'weapon': set(), 'programme': set(), 'phase': set(), 'ham': set(), 'shit': set(), 'gov': {'indian'}, '￼': set(), 'courtesy': set(), 'rounds': set(), 'bollywood': {'good', 'whole', 'dear'}, 'processes': {'internal'}, 'marching': {'many'}, 'fan': {'new'}, 'slavery': {'economic'}, 'waffle': set(), \"gov't\": set(), 'bomb': set(), 'representative': set(), 'pic.twitter.com/fg2d9v0qyi': set(), 'bones': set(), 'point': {'global'}, 'injury': set(), 'patriot': set(), 'celebs': {'spineless', 'other', 'indian', 'btown'}, 'grade': set(), 'strategy': {'long'}, '@juggyd': {'@baljitrihal'}, 'tweets': {'fake', 'indian'}, 'stickers': set(), 'a4': set(), 'sportsman': set(), 'pic.twitter.com/gxkzgvxabd': {'lilrayrayofficial'}, 'maker': {'indian'}, 'terrorist': {'biggest'}, 'grounding': set(), 'document': {'previous'}, 'dhondus': set(), 'command': set(), 'https://t.co/iwvynzqgob': set(), 'jerry': set(), 'ਜੀ': {'victorious', 'ਵਾਹਿਗੁਰੂ'}, 'mushk': {'absolute'}, 'outfit': set(), 'activism': {'global', 'real'}, 'afternoon': set(), 'ppt': {'important'}, 'hole': set(), 'republicdayviolence': set(), '24hours': {'last'}, 'staff': set(), 'distress': set(), 'thunberg': set(), 'waters': set(), 'turn': {'wrong', 'laughable'}, 'exposure': {'online'}, 'anger': {'tremendous'}, 'commies': set(), 'angle': set(), 'jargon': set(), 'codings': set(), 'concert': {'massive'}, 'note': {'serious'}, 'indiawithfarmers': set(), 'wife': set(), '🏿': set(), 'nightmare': set(), 'हमें': set(), 'vocabulary': set(), 'kush': set(), 'rules': set(), 'millions': {'@sarahhh_lndian'}, '@licypriyak': set(), '🏼#istandwithfarmers': {'👌'}, 'cries': set(), '@ripster47': {'@pharmdca'}, 'lockdown': set(), 'religions': {'different'}, 'twitter.com/donpenguinii/s': set(), 'nris': {'many'}, 'discussions': {'amicable'}, 'martyrdom': {'historic'}, 'wire': {'barbed'}, 'donation': {'generous'}, 'bride': {'new'}, 'seats': set(), 'pic.twitter.com/uyc2qpxrnk': set(), 'govts': set(), 'failures': set(), 'countries': {'other', 'spanish'}, 'authority': set(), 'hatred': {'more'}, 'diplomacy': set(), 'कोई': set(), 'पड़': set(), 'it': set(), '\\u200d': set(), 'ideologies': set(), 'institutions': set(), 'mate': {'mental'}, 'hypocrite': set(), 'repeal': set(), 'logh': set(), 'loop': set(), 'idiots': set(), 'banda': set(), 'wala': set(), 'dictator': set(), 'cowards': {'useless', 'worthless'}, 'reject': {'political', 'difficult'}, 'oo': set(), 'indiaagainstpropaganda': set(), '💪': set(), 'foundation': set(), 'liberties': set(), 'priority': {'top'}, 'imagination': set(), 'concepts': set(), 'apps': set(), 'medicine': set(), 'player': set(), '👇': set(), '👊': set(), 'celbs': set(), 'manner': set(), 'religion': {'new'}, 'indifference': set(), 'powers': set(), 'barriers': {'illegal'}, 'outages': set(), 'puppets': {'sarkari'}, 'slogans': {'revolutionary'}, 'competition': set(), 'soldiers': set(), 'ने': set(), 'swell': set(), 'accusations': {'false'}, 'author': set(), 'singer': set(), 'wave': {'tidal'}, 'republic': set(), 'punch': set(), 'campaigners': set(), 'pic.twitter.com/rdvyffoy2v': set(), 'universities': set(), 'clout': set(), 'base': set(), 'binary': set(), 'narendramodi': set(), 'relationship': {'complex'}, 'injustice': {'huge'}, 'करें': set(), 'farmwers': set(), 'figures': {'various'}, 'acclaim': {'international'}, 'surgery': set(), '🔥': set(), 'lets': set(), 'fear': set(), 'answers': set(), 'a.': set(), 'handling': set(), 'handlers': set(), 'art': {'amazing'}, 'pic.twitter.com/26bwydtixs': {'🏽🤎', 'voiceless', '💪'}, 'ball': {'global'}, '@conservatives': {'top'}, 'outpour': set(), 'fortification': {'like'}, 'section': set(), 'ਕਿਸਾਨ': set(), 'decline': set(), 'cinema': set(), 'partnership': set(), '🤬': set(), 'doctor': set(), 'sign': set(), 'riot': set(), 'pic.twitter.com/tnfuqq02zi': set(), 'cleric': set(), 'dictators': set(), 'symphony': set(), 'conductor': set(), '💵': set(), 'कीच': set(), 'apmc': set(), 'mouth': set(), 'noise': set(), 'hostility': {'much'}, 'pic.twitter.com/tm4aqhcdhq': set(), 'regency': set(), 'खाना': set(), 'trolls': set()}\n"
     ]
    }
   ],
   "source": [
    "aspects = {}\n",
    "# finding combining all aspects into a single dictionary\n",
    "# removing aspects without adjectives ?\n",
    "for aspect in senti_data['aspects']:\n",
    "    for key, value in aspect.items():\n",
    "        if key not in aspects and len(value) > 0:\n",
    "            aspects[key] = set()\n",
    "        elif len(value) > 0:\n",
    "            aspects[key].update(value)\n",
    "print (aspects)"
   ]
  },
  {
   "cell_type": "code",
   "execution_count": 78,
   "metadata": {},
   "outputs": [
    {
     "name": "stdout",
     "output_type": "stream",
     "text": [
      "15414\n"
     ]
    }
   ],
   "source": [
    "# finding common words associated with different aspects\n",
    "dep_aspects = {}\n",
    "count = 0 \n",
    "for key1, value1 in aspects.items():\n",
    "    for key2, value2 in aspects.items():\n",
    "        if key1 == key2:\n",
    "            continue\n",
    "        keys = sorted([key1, key2])\n",
    "        combined_key = \"{}__{}\".format(keys[0], keys[1])\n",
    "        if combined_key in dep_aspects:\n",
    "            continue\n",
    "        inter = value1.intersection(value2)\n",
    "        if len(inter) > 0: # the sets are indepent with eachother\n",
    "            dep_aspects[combined_key] = inter\n",
    "\n",
    "# remove common words from aspect sets making them disjoint\n",
    "for keys, values in dep_aspects.items():\n",
    "    aspect1, aspect2 = keys.split(\"__\")\n",
    "    aspects[aspect1] = aspects[aspect1] - values\n",
    "    aspects[aspect2] = aspects[aspect2] - values"
   ]
  },
  {
   "cell_type": "code",
   "execution_count": null,
   "metadata": {},
   "outputs": [],
   "source": []
  }
 ],
 "metadata": {
  "kernelspec": {
   "display_name": "base",
   "language": "python",
   "name": "python3"
  },
  "language_info": {
   "codemirror_mode": {
    "name": "ipython",
    "version": 3
   },
   "file_extension": ".py",
   "mimetype": "text/x-python",
   "name": "python",
   "nbconvert_exporter": "python",
   "pygments_lexer": "ipython3",
   "version": "3.10.10"
  },
  "orig_nbformat": 4
 },
 "nbformat": 4,
 "nbformat_minor": 2
}
